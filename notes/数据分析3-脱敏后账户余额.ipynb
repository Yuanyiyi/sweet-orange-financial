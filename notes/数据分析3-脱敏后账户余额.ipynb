{
 "cells": [
  {
   "cell_type": "markdown",
   "metadata": {},
   "source": [
    "## 加载数据"
   ]
  },
  {
   "cell_type": "code",
   "execution_count": 1,
   "metadata": {},
   "outputs": [],
   "source": [
    "import pandas as pd\n",
    "import matplotlib.pyplot as plt\n",
    "df_train_trans=pd.read_csv('../input/transaction_TRAIN.csv') # (161965, 27)\n",
    "df_train_op=pd.read_csv('../input/operation_TRAIN.csv') # (424481, 20)\n",
    "df_train_tag=pd.read_csv('../input/tag_TRAIN.csv') # (13422, 2)"
   ]
  },
  {
   "cell_type": "code",
   "execution_count": 2,
   "metadata": {},
   "outputs": [
    {
     "data": {
      "text/html": [
       "<div>\n",
       "<style scoped>\n",
       "    .dataframe tbody tr th:only-of-type {\n",
       "        vertical-align: middle;\n",
       "    }\n",
       "\n",
       "    .dataframe tbody tr th {\n",
       "        vertical-align: top;\n",
       "    }\n",
       "\n",
       "    .dataframe thead th {\n",
       "        text-align: right;\n",
       "    }\n",
       "</style>\n",
       "<table border=\"1\" class=\"dataframe\">\n",
       "  <thead>\n",
       "    <tr style=\"text-align: right;\">\n",
       "      <th></th>\n",
       "      <th>UID</th>\n",
       "      <th>trans_channel</th>\n",
       "      <th>trans_day</th>\n",
       "      <th>trans_time</th>\n",
       "      <th>trans_trans_amt</th>\n",
       "      <th>trans_amt_src1</th>\n",
       "      <th>trans_merchant</th>\n",
       "      <th>trans_code1</th>\n",
       "      <th>trans_code2</th>\n",
       "      <th>trans_trans_type1</th>\n",
       "      <th>...</th>\n",
       "      <th>trans_ip1</th>\n",
       "      <th>trans_bal</th>\n",
       "      <th>trans_amt_src2</th>\n",
       "      <th>trans_acc_id2</th>\n",
       "      <th>trans_acc_id3</th>\n",
       "      <th>trans_geo_code</th>\n",
       "      <th>trans_trans_type2</th>\n",
       "      <th>trans_market_code</th>\n",
       "      <th>trans_market_type</th>\n",
       "      <th>trans_ip1_sub</th>\n",
       "    </tr>\n",
       "  </thead>\n",
       "  <tbody>\n",
       "    <tr>\n",
       "      <th>0</th>\n",
       "      <td>19092</td>\n",
       "      <td>102</td>\n",
       "      <td>30</td>\n",
       "      <td>11:48:47</td>\n",
       "      <td>1459</td>\n",
       "      <td>acdbdb842ac20f1e</td>\n",
       "      <td>abc6bc660561e0eb</td>\n",
       "      <td>NaN</td>\n",
       "      <td>NaN</td>\n",
       "      <td>26bcf43a19df14c8</td>\n",
       "      <td>...</td>\n",
       "      <td>a664530c1fb20abe</td>\n",
       "      <td>1007</td>\n",
       "      <td>9fefed0a981dcb7a</td>\n",
       "      <td>NaN</td>\n",
       "      <td>NaN</td>\n",
       "      <td>wsbq</td>\n",
       "      <td>102.0</td>\n",
       "      <td>2ecf94369847c748</td>\n",
       "      <td>1.0</td>\n",
       "      <td>45f4ca1f4e9b9cb7</td>\n",
       "    </tr>\n",
       "    <tr>\n",
       "      <th>1</th>\n",
       "      <td>13465</td>\n",
       "      <td>140</td>\n",
       "      <td>23</td>\n",
       "      <td>16:58:03</td>\n",
       "      <td>725</td>\n",
       "      <td>4d7831c6f695ab19</td>\n",
       "      <td>7a87b1aa20972d48</td>\n",
       "      <td>NaN</td>\n",
       "      <td>NaN</td>\n",
       "      <td>c2f2023d279665b2</td>\n",
       "      <td>...</td>\n",
       "      <td>52abe1e300a8aa10</td>\n",
       "      <td>100</td>\n",
       "      <td>NaN</td>\n",
       "      <td>NaN</td>\n",
       "      <td>NaN</td>\n",
       "      <td>wte7</td>\n",
       "      <td>105.0</td>\n",
       "      <td>NaN</td>\n",
       "      <td>NaN</td>\n",
       "      <td>2b416f1d7e89ad3b</td>\n",
       "    </tr>\n",
       "    <tr>\n",
       "      <th>2</th>\n",
       "      <td>13713</td>\n",
       "      <td>140</td>\n",
       "      <td>22</td>\n",
       "      <td>09:56:39</td>\n",
       "      <td>127</td>\n",
       "      <td>c5fc631370cabc0d</td>\n",
       "      <td>cfd035fc7e0a53b2</td>\n",
       "      <td>NaN</td>\n",
       "      <td>NaN</td>\n",
       "      <td>c2f2023d279665b2</td>\n",
       "      <td>...</td>\n",
       "      <td>e4c132d02ff6c095</td>\n",
       "      <td>100</td>\n",
       "      <td>NaN</td>\n",
       "      <td>NaN</td>\n",
       "      <td>NaN</td>\n",
       "      <td>ws7n</td>\n",
       "      <td>105.0</td>\n",
       "      <td>NaN</td>\n",
       "      <td>NaN</td>\n",
       "      <td>ff71a556d86c4b8f</td>\n",
       "    </tr>\n",
       "    <tr>\n",
       "      <th>3</th>\n",
       "      <td>22703</td>\n",
       "      <td>140</td>\n",
       "      <td>1</td>\n",
       "      <td>18:11:45</td>\n",
       "      <td>99317</td>\n",
       "      <td>a571c7fda8b7df37</td>\n",
       "      <td>c71c876b8979028e</td>\n",
       "      <td>NaN</td>\n",
       "      <td>NaN</td>\n",
       "      <td>c2f2023d279665b2</td>\n",
       "      <td>...</td>\n",
       "      <td>e1c78a56cc9dfc8b</td>\n",
       "      <td>100</td>\n",
       "      <td>fbf6bf3c8927414c</td>\n",
       "      <td>NaN</td>\n",
       "      <td>NaN</td>\n",
       "      <td>wqj6</td>\n",
       "      <td>NaN</td>\n",
       "      <td>NaN</td>\n",
       "      <td>NaN</td>\n",
       "      <td>cf1527a0b4173e8f</td>\n",
       "    </tr>\n",
       "    <tr>\n",
       "      <th>4</th>\n",
       "      <td>17816</td>\n",
       "      <td>140</td>\n",
       "      <td>22</td>\n",
       "      <td>13:04:02</td>\n",
       "      <td>3361</td>\n",
       "      <td>c5fc631370cabc0d</td>\n",
       "      <td>6628f5ca013e3582</td>\n",
       "      <td>NaN</td>\n",
       "      <td>NaN</td>\n",
       "      <td>c2f2023d279665b2</td>\n",
       "      <td>...</td>\n",
       "      <td>abb6b4b8f15be6d6</td>\n",
       "      <td>100</td>\n",
       "      <td>NaN</td>\n",
       "      <td>NaN</td>\n",
       "      <td>NaN</td>\n",
       "      <td>NaN</td>\n",
       "      <td>105.0</td>\n",
       "      <td>NaN</td>\n",
       "      <td>NaN</td>\n",
       "      <td>cbc62c2b1cb7deb9</td>\n",
       "    </tr>\n",
       "  </tbody>\n",
       "</table>\n",
       "<p>5 rows × 27 columns</p>\n",
       "</div>"
      ],
      "text/plain": [
       "     UID  trans_channel  trans_day trans_time  trans_trans_amt  \\\n",
       "0  19092            102         30   11:48:47             1459   \n",
       "1  13465            140         23   16:58:03              725   \n",
       "2  13713            140         22   09:56:39              127   \n",
       "3  22703            140          1   18:11:45            99317   \n",
       "4  17816            140         22   13:04:02             3361   \n",
       "\n",
       "     trans_amt_src1    trans_merchant trans_code1 trans_code2  \\\n",
       "0  acdbdb842ac20f1e  abc6bc660561e0eb         NaN         NaN   \n",
       "1  4d7831c6f695ab19  7a87b1aa20972d48         NaN         NaN   \n",
       "2  c5fc631370cabc0d  cfd035fc7e0a53b2         NaN         NaN   \n",
       "3  a571c7fda8b7df37  c71c876b8979028e         NaN         NaN   \n",
       "4  c5fc631370cabc0d  6628f5ca013e3582         NaN         NaN   \n",
       "\n",
       "  trans_trans_type1        ...                trans_ip1 trans_bal  \\\n",
       "0  26bcf43a19df14c8        ...         a664530c1fb20abe      1007   \n",
       "1  c2f2023d279665b2        ...         52abe1e300a8aa10       100   \n",
       "2  c2f2023d279665b2        ...         e4c132d02ff6c095       100   \n",
       "3  c2f2023d279665b2        ...         e1c78a56cc9dfc8b       100   \n",
       "4  c2f2023d279665b2        ...         abb6b4b8f15be6d6       100   \n",
       "\n",
       "     trans_amt_src2 trans_acc_id2 trans_acc_id3 trans_geo_code  \\\n",
       "0  9fefed0a981dcb7a           NaN           NaN           wsbq   \n",
       "1               NaN           NaN           NaN           wte7   \n",
       "2               NaN           NaN           NaN           ws7n   \n",
       "3  fbf6bf3c8927414c           NaN           NaN           wqj6   \n",
       "4               NaN           NaN           NaN            NaN   \n",
       "\n",
       "  trans_trans_type2 trans_market_code  trans_market_type     trans_ip1_sub  \n",
       "0             102.0  2ecf94369847c748                1.0  45f4ca1f4e9b9cb7  \n",
       "1             105.0               NaN                NaN  2b416f1d7e89ad3b  \n",
       "2             105.0               NaN                NaN  ff71a556d86c4b8f  \n",
       "3               NaN               NaN                NaN  cf1527a0b4173e8f  \n",
       "4             105.0               NaN                NaN  cbc62c2b1cb7deb9  \n",
       "\n",
       "[5 rows x 27 columns]"
      ]
     },
     "execution_count": 2,
     "metadata": {},
     "output_type": "execute_result"
    }
   ],
   "source": [
    "df_train_trans.rename(columns=lambda col:'trans_'+col if col!='UID' else col,inplace=True)\n",
    "df_train_trans.head()"
   ]
  },
  {
   "cell_type": "code",
   "execution_count": 3,
   "metadata": {},
   "outputs": [
    {
     "data": {
      "text/html": [
       "<div>\n",
       "<style scoped>\n",
       "    .dataframe tbody tr th:only-of-type {\n",
       "        vertical-align: middle;\n",
       "    }\n",
       "\n",
       "    .dataframe tbody tr th {\n",
       "        vertical-align: top;\n",
       "    }\n",
       "\n",
       "    .dataframe thead th {\n",
       "        text-align: right;\n",
       "    }\n",
       "</style>\n",
       "<table border=\"1\" class=\"dataframe\">\n",
       "  <thead>\n",
       "    <tr style=\"text-align: right;\">\n",
       "      <th></th>\n",
       "      <th>UID</th>\n",
       "      <th>op_day</th>\n",
       "      <th>op_mode</th>\n",
       "      <th>op_success</th>\n",
       "      <th>op_time</th>\n",
       "      <th>op_os</th>\n",
       "      <th>op_version</th>\n",
       "      <th>op_device1</th>\n",
       "      <th>op_device2</th>\n",
       "      <th>op_device_code1</th>\n",
       "      <th>op_device_code2</th>\n",
       "      <th>op_device_code3</th>\n",
       "      <th>op_mac1</th>\n",
       "      <th>op_mac2</th>\n",
       "      <th>op_ip1</th>\n",
       "      <th>op_ip2</th>\n",
       "      <th>op_wifi</th>\n",
       "      <th>op_geo_code</th>\n",
       "      <th>op_ip1_sub</th>\n",
       "      <th>op_ip2_sub</th>\n",
       "    </tr>\n",
       "  </thead>\n",
       "  <tbody>\n",
       "    <tr>\n",
       "      <th>0</th>\n",
       "      <td>10035</td>\n",
       "      <td>30</td>\n",
       "      <td>c8741ce15ceac2a4</td>\n",
       "      <td>1.0</td>\n",
       "      <td>17:51:50</td>\n",
       "      <td>102</td>\n",
       "      <td>7.0.9</td>\n",
       "      <td>49dd36968dbfadda</td>\n",
       "      <td>OPPO R11</td>\n",
       "      <td>ecb58082e0e9b8e2</td>\n",
       "      <td>00fa2e4ba95605ef</td>\n",
       "      <td>NaN</td>\n",
       "      <td>NaN</td>\n",
       "      <td>a8dc52f65085212e</td>\n",
       "      <td>55dd8936655c86f6</td>\n",
       "      <td>NaN</td>\n",
       "      <td>NaN</td>\n",
       "      <td>wskx</td>\n",
       "      <td>e58e48fb9215116e</td>\n",
       "      <td>NaN</td>\n",
       "    </tr>\n",
       "    <tr>\n",
       "      <th>1</th>\n",
       "      <td>16264</td>\n",
       "      <td>16</td>\n",
       "      <td>20a91b45ef8f8221</td>\n",
       "      <td>1.0</td>\n",
       "      <td>08:36:00</td>\n",
       "      <td>200</td>\n",
       "      <td>NaN</td>\n",
       "      <td>NaN</td>\n",
       "      <td>NaN</td>\n",
       "      <td>NaN</td>\n",
       "      <td>NaN</td>\n",
       "      <td>NaN</td>\n",
       "      <td>NaN</td>\n",
       "      <td>NaN</td>\n",
       "      <td>NaN</td>\n",
       "      <td>fc7fc47d6c93f554</td>\n",
       "      <td>NaN</td>\n",
       "      <td>NaN</td>\n",
       "      <td>NaN</td>\n",
       "      <td>3502c553ea2ac187</td>\n",
       "    </tr>\n",
       "    <tr>\n",
       "      <th>2</th>\n",
       "      <td>13162</td>\n",
       "      <td>8</td>\n",
       "      <td>b668e42707ee9c7b</td>\n",
       "      <td>0.0</td>\n",
       "      <td>18:09:57</td>\n",
       "      <td>102</td>\n",
       "      <td>7.0.5</td>\n",
       "      <td>630a1adff2a87007</td>\n",
       "      <td>MI MAX 2</td>\n",
       "      <td>1da225cb679a37eb</td>\n",
       "      <td>f18538156b8f9b57</td>\n",
       "      <td>NaN</td>\n",
       "      <td>a8dc52f65085212e</td>\n",
       "      <td>NaN</td>\n",
       "      <td>2147d925e7a8ba3c</td>\n",
       "      <td>NaN</td>\n",
       "      <td>NaN</td>\n",
       "      <td>NaN</td>\n",
       "      <td>3591678eca3f7a23</td>\n",
       "      <td>NaN</td>\n",
       "    </tr>\n",
       "    <tr>\n",
       "      <th>3</th>\n",
       "      <td>21392</td>\n",
       "      <td>23</td>\n",
       "      <td>c8741ce15ceac2a4</td>\n",
       "      <td>1.0</td>\n",
       "      <td>23:53:49</td>\n",
       "      <td>102</td>\n",
       "      <td>7.0.9</td>\n",
       "      <td>630a1adff2a87007</td>\n",
       "      <td>MI 5X</td>\n",
       "      <td>d0c285513b785609</td>\n",
       "      <td>a7e79e3c2c85c8c7</td>\n",
       "      <td>NaN</td>\n",
       "      <td>NaN</td>\n",
       "      <td>04a2d6c090518faa</td>\n",
       "      <td>c52efc665f0af581</td>\n",
       "      <td>NaN</td>\n",
       "      <td>4ff1553b1c96360e</td>\n",
       "      <td>wm4v</td>\n",
       "      <td>fdb5e20f6a6f2cd7</td>\n",
       "      <td>NaN</td>\n",
       "    </tr>\n",
       "    <tr>\n",
       "      <th>4</th>\n",
       "      <td>18599</td>\n",
       "      <td>26</td>\n",
       "      <td>acfaded7e04e7ba0</td>\n",
       "      <td>1.0</td>\n",
       "      <td>11:11:15</td>\n",
       "      <td>102</td>\n",
       "      <td>7.0.0</td>\n",
       "      <td>8399be6b80847240</td>\n",
       "      <td>NaN</td>\n",
       "      <td>27efd832595503f6</td>\n",
       "      <td>b6457e2264266257</td>\n",
       "      <td>NaN</td>\n",
       "      <td>NaN</td>\n",
       "      <td>1ab9dc3eae102aa6</td>\n",
       "      <td>0fe293bea342665a</td>\n",
       "      <td>NaN</td>\n",
       "      <td>NaN</td>\n",
       "      <td>NaN</td>\n",
       "      <td>f5009e2c6c13c80c</td>\n",
       "      <td>NaN</td>\n",
       "    </tr>\n",
       "  </tbody>\n",
       "</table>\n",
       "</div>"
      ],
      "text/plain": [
       "     UID  op_day           op_mode  op_success   op_time  op_os op_version  \\\n",
       "0  10035      30  c8741ce15ceac2a4         1.0  17:51:50    102      7.0.9   \n",
       "1  16264      16  20a91b45ef8f8221         1.0  08:36:00    200        NaN   \n",
       "2  13162       8  b668e42707ee9c7b         0.0  18:09:57    102      7.0.5   \n",
       "3  21392      23  c8741ce15ceac2a4         1.0  23:53:49    102      7.0.9   \n",
       "4  18599      26  acfaded7e04e7ba0         1.0  11:11:15    102      7.0.0   \n",
       "\n",
       "         op_device1 op_device2   op_device_code1   op_device_code2  \\\n",
       "0  49dd36968dbfadda   OPPO R11  ecb58082e0e9b8e2  00fa2e4ba95605ef   \n",
       "1               NaN        NaN               NaN               NaN   \n",
       "2  630a1adff2a87007   MI MAX 2  1da225cb679a37eb  f18538156b8f9b57   \n",
       "3  630a1adff2a87007      MI 5X  d0c285513b785609  a7e79e3c2c85c8c7   \n",
       "4  8399be6b80847240        NaN  27efd832595503f6  b6457e2264266257   \n",
       "\n",
       "  op_device_code3           op_mac1           op_mac2            op_ip1  \\\n",
       "0             NaN               NaN  a8dc52f65085212e  55dd8936655c86f6   \n",
       "1             NaN               NaN               NaN               NaN   \n",
       "2             NaN  a8dc52f65085212e               NaN  2147d925e7a8ba3c   \n",
       "3             NaN               NaN  04a2d6c090518faa  c52efc665f0af581   \n",
       "4             NaN               NaN  1ab9dc3eae102aa6  0fe293bea342665a   \n",
       "\n",
       "             op_ip2           op_wifi op_geo_code        op_ip1_sub  \\\n",
       "0               NaN               NaN        wskx  e58e48fb9215116e   \n",
       "1  fc7fc47d6c93f554               NaN         NaN               NaN   \n",
       "2               NaN               NaN         NaN  3591678eca3f7a23   \n",
       "3               NaN  4ff1553b1c96360e        wm4v  fdb5e20f6a6f2cd7   \n",
       "4               NaN               NaN         NaN  f5009e2c6c13c80c   \n",
       "\n",
       "         op_ip2_sub  \n",
       "0               NaN  \n",
       "1  3502c553ea2ac187  \n",
       "2               NaN  \n",
       "3               NaN  \n",
       "4               NaN  "
      ]
     },
     "execution_count": 3,
     "metadata": {},
     "output_type": "execute_result"
    }
   ],
   "source": [
    "df_train_op.rename(columns=lambda col:'op_'+col if col!='UID' else col,inplace=True)\n",
    "df_train_op.head()"
   ]
  },
  {
   "cell_type": "markdown",
   "metadata": {},
   "source": [
    "## 脱敏后账户余额\n",
    "- 所有用户\n",
    "- 黑用户\n",
    "- 白用户"
   ]
  },
  {
   "cell_type": "markdown",
   "metadata": {},
   "source": [
    "- 总体分布"
   ]
  },
  {
   "cell_type": "code",
   "execution_count": 12,
   "metadata": {},
   "outputs": [
    {
     "data": {
      "image/png": "[encoded data removed]",
      "text/plain": [
       "<Figure size 432x288 with 1 Axes>"
      ]
     },
     "metadata": {},
     "output_type": "display_data"
    }
   ],
   "source": [
    "plt.plot(df_train_trans['trans_bal'].values/100)\n",
    "plt.show()"
   ]
  },
  {
   "cell_type": "markdown",
   "metadata": {},
   "source": [
    "整体分布差异很大，跨度很大，余额高用户还是余额地用户是羊毛党?\n"
   ]
  },
  {
   "cell_type": "code",
   "execution_count": 13,
   "metadata": {},
   "outputs": [],
   "source": [
    "df_tag_uids=df_train_tag['UID'] # 标签中的UID都是唯一的\n",
    "black_uids=df_train_tag[df_train_tag['Tag']==1]['UID']\n",
    "white_uids=df_train_tag[df_train_tag['Tag']==0]['UID']\n",
    "\n",
    "black_trans=df_train_trans[df_train_trans['UID'].isin(black_uids)]\n",
    "white_trans=df_train_trans[df_train_trans['UID'].isin(white_uids)]"
   ]
  },
  {
   "cell_type": "markdown",
   "metadata": {},
   "source": [
    "- 黑用户的交易之后余额"
   ]
  },
  {
   "cell_type": "code",
   "execution_count": 27,
   "metadata": {},
   "outputs": [
    {
     "data": {
      "image/png": "[encoded data removed]",
      "text/plain": [
       "<Figure size 432x288 with 1 Axes>"
      ]
     },
     "metadata": {},
     "output_type": "display_data"
    }
   ],
   "source": [
    "plt.plot(black_trans['trans_bal'].sort_values(ascending=False).values/100)\n",
    "plt.show()"
   ]
  },
  {
   "cell_type": "markdown",
   "metadata": {},
   "source": [
    "- 白用户的交易之后余额"
   ]
  },
  {
   "cell_type": "code",
   "execution_count": 28,
   "metadata": {},
   "outputs": [
    {
     "data": {
      "image/png": "[encoded data removed]",
      "text/plain": [
       "<Figure size 432x288 with 1 Axes>"
      ]
     },
     "metadata": {},
     "output_type": "display_data"
    }
   ],
   "source": [
    "plt.plot(white_trans['trans_bal'].sort_values(ascending=False).values/100)\n",
    "plt.show()"
   ]
  },
  {
   "cell_type": "markdown",
   "metadata": {},
   "source": [
    "- 每个黑用户的交易之后余额平均值"
   ]
  },
  {
   "cell_type": "code",
   "execution_count": 43,
   "metadata": {
    "scrolled": false
   },
   "outputs": [
    {
     "data": {
      "text/plain": [
       "UID\n",
       "10000      1.000000\n",
       "10019      2.464000\n",
       "10021     10.514868\n",
       "10041      1.000000\n",
       "10058     17.307273\n",
       "10064      1.000000\n",
       "10076      1.000000\n",
       "10097     47.391111\n",
       "10105      3.520000\n",
       "10123      9.116269\n",
       "10165      1.000000\n",
       "10173      1.000000\n",
       "10185    201.880000\n",
       "10192     46.288193\n",
       "10201    229.333750\n",
       "10213     93.555833\n",
       "10217      1.000000\n",
       "10226    159.563333\n",
       "10252      1.000000\n",
       "10259     95.167143\n",
       "Name: trans_bal, dtype: float64"
      ]
     },
     "execution_count": 43,
     "metadata": {},
     "output_type": "execute_result"
    }
   ],
   "source": [
    "black_bal_mean= black_trans.groupby('UID').mean()['trans_bal']/100\n",
    "black_bal_mean[:20]"
   ]
  },
  {
   "cell_type": "code",
   "execution_count": 40,
   "metadata": {},
   "outputs": [
    {
     "data": {
      "image/png": "[encoded data removed]",
      "text/plain": [
       "<Figure size 432x288 with 1 Axes>"
      ]
     },
     "metadata": {},
     "output_type": "display_data"
    }
   ],
   "source": [
    "plt.plot(black_bal_mean.values)\n",
    "plt.show()"
   ]
  },
  {
   "cell_type": "markdown",
   "metadata": {},
   "source": [
    "- 每个白用户的交易之后余额平均值"
   ]
  },
  {
   "cell_type": "code",
   "execution_count": 42,
   "metadata": {},
   "outputs": [
    {
     "data": {
      "image/png": "[encoded data removed]",
      "text/plain": [
       "<Figure size 432x288 with 1 Axes>"
      ]
     },
     "metadata": {},
     "output_type": "display_data"
    }
   ],
   "source": [
    "white_bal_mean= white_trans.groupby('UID').mean()['trans_bal']/100\n",
    "plt.plot(white_bal_mean.values)\n",
    "plt.show()"
   ]
  },
  {
   "cell_type": "markdown",
   "metadata": {},
   "source": [
    "我们看到黑白用户交易后平均值，平均值差别很大，看y轴"
   ]
  },
  {
   "cell_type": "code",
   "execution_count": null,
   "metadata": {},
   "outputs": [],
   "source": []
  }
 ],
 "metadata": {
  "kernelspec": {
   "display_name": "Python 3",
   "language": "python",
   "name": "python3"
  },
  "language_info": {
   "codemirror_mode": {
    "name": "ipython",
    "version": 3
   },
   "file_extension": ".py",
   "mimetype": "text/x-python",
   "name": "python",
   "nbconvert_exporter": "python",
   "pygments_lexer": "ipython3",
   "version": "3.6.5"
  }
 },
 "nbformat": 4,
 "nbformat_minor": 2
}
