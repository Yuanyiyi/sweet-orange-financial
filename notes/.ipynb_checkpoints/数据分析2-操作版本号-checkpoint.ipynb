{
 "cells": [
  {
   "cell_type": "code",
   "execution_count": 2,
   "metadata": {},
   "outputs": [],
   "source": [
    "import pandas as pd\n",
    "import matplotlib.pyplot as plt\n",
    "df_train_trans=pd.read_csv('../input/transaction_TRAIN.csv') # (161965, 27)\n",
    "df_train_op=pd.read_csv('../input/operation_TRAIN.csv') # (424481, 20)\n",
    "df_train_tag=pd.read_csv('../input/tag_TRAIN.csv') # (13422, 2)"
   ]
  },
  {
   "cell_type": "code",
   "execution_count": 3,
   "metadata": {},
   "outputs": [
    {
     "data": {
      "text/html": [
       "<div>\n",
       "<style scoped>\n",
       "    .dataframe tbody tr th:only-of-type {\n",
       "        vertical-align: middle;\n",
       "    }\n",
       "\n",
       "    .dataframe tbody tr th {\n",
       "        vertical-align: top;\n",
       "    }\n",
       "\n",
       "    .dataframe thead th {\n",
       "        text-align: right;\n",
       "    }\n",
       "</style>\n",
       "<table border=\"1\" class=\"dataframe\">\n",
       "  <thead>\n",
       "    <tr style=\"text-align: right;\">\n",
       "      <th></th>\n",
       "      <th>UID</th>\n",
       "      <th>trans_channel</th>\n",
       "      <th>trans_day</th>\n",
       "      <th>trans_time</th>\n",
       "      <th>trans_trans_amt</th>\n",
       "      <th>trans_amt_src1</th>\n",
       "      <th>trans_merchant</th>\n",
       "      <th>trans_code1</th>\n",
       "      <th>trans_code2</th>\n",
       "      <th>trans_trans_type1</th>\n",
       "      <th>...</th>\n",
       "      <th>trans_ip1</th>\n",
       "      <th>trans_bal</th>\n",
       "      <th>trans_amt_src2</th>\n",
       "      <th>trans_acc_id2</th>\n",
       "      <th>trans_acc_id3</th>\n",
       "      <th>trans_geo_code</th>\n",
       "      <th>trans_trans_type2</th>\n",
       "      <th>trans_market_code</th>\n",
       "      <th>trans_market_type</th>\n",
       "      <th>trans_ip1_sub</th>\n",
       "    </tr>\n",
       "  </thead>\n",
       "  <tbody>\n",
       "    <tr>\n",
       "      <th>0</th>\n",
       "      <td>19092</td>\n",
       "      <td>102</td>\n",
       "      <td>30</td>\n",
       "      <td>11:48:47</td>\n",
       "      <td>1459</td>\n",
       "      <td>acdbdb842ac20f1e</td>\n",
       "      <td>abc6bc660561e0eb</td>\n",
       "      <td>NaN</td>\n",
       "      <td>NaN</td>\n",
       "      <td>26bcf43a19df14c8</td>\n",
       "      <td>...</td>\n",
       "      <td>a664530c1fb20abe</td>\n",
       "      <td>1007</td>\n",
       "      <td>9fefed0a981dcb7a</td>\n",
       "      <td>NaN</td>\n",
       "      <td>NaN</td>\n",
       "      <td>wsbq</td>\n",
       "      <td>102.0</td>\n",
       "      <td>2ecf94369847c748</td>\n",
       "      <td>1.0</td>\n",
       "      <td>45f4ca1f4e9b9cb7</td>\n",
       "    </tr>\n",
       "    <tr>\n",
       "      <th>1</th>\n",
       "      <td>13465</td>\n",
       "      <td>140</td>\n",
       "      <td>23</td>\n",
       "      <td>16:58:03</td>\n",
       "      <td>725</td>\n",
       "      <td>4d7831c6f695ab19</td>\n",
       "      <td>7a87b1aa20972d48</td>\n",
       "      <td>NaN</td>\n",
       "      <td>NaN</td>\n",
       "      <td>c2f2023d279665b2</td>\n",
       "      <td>...</td>\n",
       "      <td>52abe1e300a8aa10</td>\n",
       "      <td>100</td>\n",
       "      <td>NaN</td>\n",
       "      <td>NaN</td>\n",
       "      <td>NaN</td>\n",
       "      <td>wte7</td>\n",
       "      <td>105.0</td>\n",
       "      <td>NaN</td>\n",
       "      <td>NaN</td>\n",
       "      <td>2b416f1d7e89ad3b</td>\n",
       "    </tr>\n",
       "    <tr>\n",
       "      <th>2</th>\n",
       "      <td>13713</td>\n",
       "      <td>140</td>\n",
       "      <td>22</td>\n",
       "      <td>09:56:39</td>\n",
       "      <td>127</td>\n",
       "      <td>c5fc631370cabc0d</td>\n",
       "      <td>cfd035fc7e0a53b2</td>\n",
       "      <td>NaN</td>\n",
       "      <td>NaN</td>\n",
       "      <td>c2f2023d279665b2</td>\n",
       "      <td>...</td>\n",
       "      <td>e4c132d02ff6c095</td>\n",
       "      <td>100</td>\n",
       "      <td>NaN</td>\n",
       "      <td>NaN</td>\n",
       "      <td>NaN</td>\n",
       "      <td>ws7n</td>\n",
       "      <td>105.0</td>\n",
       "      <td>NaN</td>\n",
       "      <td>NaN</td>\n",
       "      <td>ff71a556d86c4b8f</td>\n",
       "    </tr>\n",
       "    <tr>\n",
       "      <th>3</th>\n",
       "      <td>22703</td>\n",
       "      <td>140</td>\n",
       "      <td>1</td>\n",
       "      <td>18:11:45</td>\n",
       "      <td>99317</td>\n",
       "      <td>a571c7fda8b7df37</td>\n",
       "      <td>c71c876b8979028e</td>\n",
       "      <td>NaN</td>\n",
       "      <td>NaN</td>\n",
       "      <td>c2f2023d279665b2</td>\n",
       "      <td>...</td>\n",
       "      <td>e1c78a56cc9dfc8b</td>\n",
       "      <td>100</td>\n",
       "      <td>fbf6bf3c8927414c</td>\n",
       "      <td>NaN</td>\n",
       "      <td>NaN</td>\n",
       "      <td>wqj6</td>\n",
       "      <td>NaN</td>\n",
       "      <td>NaN</td>\n",
       "      <td>NaN</td>\n",
       "      <td>cf1527a0b4173e8f</td>\n",
       "    </tr>\n",
       "    <tr>\n",
       "      <th>4</th>\n",
       "      <td>17816</td>\n",
       "      <td>140</td>\n",
       "      <td>22</td>\n",
       "      <td>13:04:02</td>\n",
       "      <td>3361</td>\n",
       "      <td>c5fc631370cabc0d</td>\n",
       "      <td>6628f5ca013e3582</td>\n",
       "      <td>NaN</td>\n",
       "      <td>NaN</td>\n",
       "      <td>c2f2023d279665b2</td>\n",
       "      <td>...</td>\n",
       "      <td>abb6b4b8f15be6d6</td>\n",
       "      <td>100</td>\n",
       "      <td>NaN</td>\n",
       "      <td>NaN</td>\n",
       "      <td>NaN</td>\n",
       "      <td>NaN</td>\n",
       "      <td>105.0</td>\n",
       "      <td>NaN</td>\n",
       "      <td>NaN</td>\n",
       "      <td>cbc62c2b1cb7deb9</td>\n",
       "    </tr>\n",
       "  </tbody>\n",
       "</table>\n",
       "<p>5 rows × 27 columns</p>\n",
       "</div>"
      ],
      "text/plain": [
       "     UID  trans_channel  trans_day trans_time  trans_trans_amt  \\\n",
       "0  19092            102         30   11:48:47             1459   \n",
       "1  13465            140         23   16:58:03              725   \n",
       "2  13713            140         22   09:56:39              127   \n",
       "3  22703            140          1   18:11:45            99317   \n",
       "4  17816            140         22   13:04:02             3361   \n",
       "\n",
       "     trans_amt_src1    trans_merchant trans_code1 trans_code2  \\\n",
       "0  acdbdb842ac20f1e  abc6bc660561e0eb         NaN         NaN   \n",
       "1  4d7831c6f695ab19  7a87b1aa20972d48         NaN         NaN   \n",
       "2  c5fc631370cabc0d  cfd035fc7e0a53b2         NaN         NaN   \n",
       "3  a571c7fda8b7df37  c71c876b8979028e         NaN         NaN   \n",
       "4  c5fc631370cabc0d  6628f5ca013e3582         NaN         NaN   \n",
       "\n",
       "  trans_trans_type1        ...                trans_ip1 trans_bal  \\\n",
       "0  26bcf43a19df14c8        ...         a664530c1fb20abe      1007   \n",
       "1  c2f2023d279665b2        ...         52abe1e300a8aa10       100   \n",
       "2  c2f2023d279665b2        ...         e4c132d02ff6c095       100   \n",
       "3  c2f2023d279665b2        ...         e1c78a56cc9dfc8b       100   \n",
       "4  c2f2023d279665b2        ...         abb6b4b8f15be6d6       100   \n",
       "\n",
       "     trans_amt_src2 trans_acc_id2 trans_acc_id3 trans_geo_code  \\\n",
       "0  9fefed0a981dcb7a           NaN           NaN           wsbq   \n",
       "1               NaN           NaN           NaN           wte7   \n",
       "2               NaN           NaN           NaN           ws7n   \n",
       "3  fbf6bf3c8927414c           NaN           NaN           wqj6   \n",
       "4               NaN           NaN           NaN            NaN   \n",
       "\n",
       "  trans_trans_type2 trans_market_code  trans_market_type     trans_ip1_sub  \n",
       "0             102.0  2ecf94369847c748                1.0  45f4ca1f4e9b9cb7  \n",
       "1             105.0               NaN                NaN  2b416f1d7e89ad3b  \n",
       "2             105.0               NaN                NaN  ff71a556d86c4b8f  \n",
       "3               NaN               NaN                NaN  cf1527a0b4173e8f  \n",
       "4             105.0               NaN                NaN  cbc62c2b1cb7deb9  \n",
       "\n",
       "[5 rows x 27 columns]"
      ]
     },
     "execution_count": 3,
     "metadata": {},
     "output_type": "execute_result"
    }
   ],
   "source": [
    "df_train_trans.rename(columns=lambda col:'trans_'+col if col!='UID' else col,inplace=True)\n",
    "df_train_trans.head()"
   ]
  },
  {
   "cell_type": "code",
   "execution_count": 4,
   "metadata": {},
   "outputs": [
    {
     "data": {
      "text/html": [
       "<div>\n",
       "<style scoped>\n",
       "    .dataframe tbody tr th:only-of-type {\n",
       "        vertical-align: middle;\n",
       "    }\n",
       "\n",
       "    .dataframe tbody tr th {\n",
       "        vertical-align: top;\n",
       "    }\n",
       "\n",
       "    .dataframe thead th {\n",
       "        text-align: right;\n",
       "    }\n",
       "</style>\n",
       "<table border=\"1\" class=\"dataframe\">\n",
       "  <thead>\n",
       "    <tr style=\"text-align: right;\">\n",
       "      <th></th>\n",
       "      <th>UID</th>\n",
       "      <th>op_day</th>\n",
       "      <th>op_mode</th>\n",
       "      <th>op_success</th>\n",
       "      <th>op_time</th>\n",
       "      <th>op_os</th>\n",
       "      <th>op_version</th>\n",
       "      <th>op_device1</th>\n",
       "      <th>op_device2</th>\n",
       "      <th>op_device_code1</th>\n",
       "      <th>op_device_code2</th>\n",
       "      <th>op_device_code3</th>\n",
       "      <th>op_mac1</th>\n",
       "      <th>op_mac2</th>\n",
       "      <th>op_ip1</th>\n",
       "      <th>op_ip2</th>\n",
       "      <th>op_wifi</th>\n",
       "      <th>op_geo_code</th>\n",
       "      <th>op_ip1_sub</th>\n",
       "      <th>op_ip2_sub</th>\n",
       "    </tr>\n",
       "  </thead>\n",
       "  <tbody>\n",
       "    <tr>\n",
       "      <th>0</th>\n",
       "      <td>10035</td>\n",
       "      <td>30</td>\n",
       "      <td>c8741ce15ceac2a4</td>\n",
       "      <td>1.0</td>\n",
       "      <td>17:51:50</td>\n",
       "      <td>102</td>\n",
       "      <td>7.0.9</td>\n",
       "      <td>49dd36968dbfadda</td>\n",
       "      <td>OPPO R11</td>\n",
       "      <td>ecb58082e0e9b8e2</td>\n",
       "      <td>00fa2e4ba95605ef</td>\n",
       "      <td>NaN</td>\n",
       "      <td>NaN</td>\n",
       "      <td>a8dc52f65085212e</td>\n",
       "      <td>55dd8936655c86f6</td>\n",
       "      <td>NaN</td>\n",
       "      <td>NaN</td>\n",
       "      <td>wskx</td>\n",
       "      <td>e58e48fb9215116e</td>\n",
       "      <td>NaN</td>\n",
       "    </tr>\n",
       "    <tr>\n",
       "      <th>1</th>\n",
       "      <td>16264</td>\n",
       "      <td>16</td>\n",
       "      <td>20a91b45ef8f8221</td>\n",
       "      <td>1.0</td>\n",
       "      <td>08:36:00</td>\n",
       "      <td>200</td>\n",
       "      <td>NaN</td>\n",
       "      <td>NaN</td>\n",
       "      <td>NaN</td>\n",
       "      <td>NaN</td>\n",
       "      <td>NaN</td>\n",
       "      <td>NaN</td>\n",
       "      <td>NaN</td>\n",
       "      <td>NaN</td>\n",
       "      <td>NaN</td>\n",
       "      <td>fc7fc47d6c93f554</td>\n",
       "      <td>NaN</td>\n",
       "      <td>NaN</td>\n",
       "      <td>NaN</td>\n",
       "      <td>3502c553ea2ac187</td>\n",
       "    </tr>\n",
       "    <tr>\n",
       "      <th>2</th>\n",
       "      <td>13162</td>\n",
       "      <td>8</td>\n",
       "      <td>b668e42707ee9c7b</td>\n",
       "      <td>0.0</td>\n",
       "      <td>18:09:57</td>\n",
       "      <td>102</td>\n",
       "      <td>7.0.5</td>\n",
       "      <td>630a1adff2a87007</td>\n",
       "      <td>MI MAX 2</td>\n",
       "      <td>1da225cb679a37eb</td>\n",
       "      <td>f18538156b8f9b57</td>\n",
       "      <td>NaN</td>\n",
       "      <td>a8dc52f65085212e</td>\n",
       "      <td>NaN</td>\n",
       "      <td>2147d925e7a8ba3c</td>\n",
       "      <td>NaN</td>\n",
       "      <td>NaN</td>\n",
       "      <td>NaN</td>\n",
       "      <td>3591678eca3f7a23</td>\n",
       "      <td>NaN</td>\n",
       "    </tr>\n",
       "    <tr>\n",
       "      <th>3</th>\n",
       "      <td>21392</td>\n",
       "      <td>23</td>\n",
       "      <td>c8741ce15ceac2a4</td>\n",
       "      <td>1.0</td>\n",
       "      <td>23:53:49</td>\n",
       "      <td>102</td>\n",
       "      <td>7.0.9</td>\n",
       "      <td>630a1adff2a87007</td>\n",
       "      <td>MI 5X</td>\n",
       "      <td>d0c285513b785609</td>\n",
       "      <td>a7e79e3c2c85c8c7</td>\n",
       "      <td>NaN</td>\n",
       "      <td>NaN</td>\n",
       "      <td>04a2d6c090518faa</td>\n",
       "      <td>c52efc665f0af581</td>\n",
       "      <td>NaN</td>\n",
       "      <td>4ff1553b1c96360e</td>\n",
       "      <td>wm4v</td>\n",
       "      <td>fdb5e20f6a6f2cd7</td>\n",
       "      <td>NaN</td>\n",
       "    </tr>\n",
       "    <tr>\n",
       "      <th>4</th>\n",
       "      <td>18599</td>\n",
       "      <td>26</td>\n",
       "      <td>acfaded7e04e7ba0</td>\n",
       "      <td>1.0</td>\n",
       "      <td>11:11:15</td>\n",
       "      <td>102</td>\n",
       "      <td>7.0.0</td>\n",
       "      <td>8399be6b80847240</td>\n",
       "      <td>NaN</td>\n",
       "      <td>27efd832595503f6</td>\n",
       "      <td>b6457e2264266257</td>\n",
       "      <td>NaN</td>\n",
       "      <td>NaN</td>\n",
       "      <td>1ab9dc3eae102aa6</td>\n",
       "      <td>0fe293bea342665a</td>\n",
       "      <td>NaN</td>\n",
       "      <td>NaN</td>\n",
       "      <td>NaN</td>\n",
       "      <td>f5009e2c6c13c80c</td>\n",
       "      <td>NaN</td>\n",
       "    </tr>\n",
       "  </tbody>\n",
       "</table>\n",
       "</div>"
      ],
      "text/plain": [
       "     UID  op_day           op_mode  op_success   op_time  op_os op_version  \\\n",
       "0  10035      30  c8741ce15ceac2a4         1.0  17:51:50    102      7.0.9   \n",
       "1  16264      16  20a91b45ef8f8221         1.0  08:36:00    200        NaN   \n",
       "2  13162       8  b668e42707ee9c7b         0.0  18:09:57    102      7.0.5   \n",
       "3  21392      23  c8741ce15ceac2a4         1.0  23:53:49    102      7.0.9   \n",
       "4  18599      26  acfaded7e04e7ba0         1.0  11:11:15    102      7.0.0   \n",
       "\n",
       "         op_device1 op_device2   op_device_code1   op_device_code2  \\\n",
       "0  49dd36968dbfadda   OPPO R11  ecb58082e0e9b8e2  00fa2e4ba95605ef   \n",
       "1               NaN        NaN               NaN               NaN   \n",
       "2  630a1adff2a87007   MI MAX 2  1da225cb679a37eb  f18538156b8f9b57   \n",
       "3  630a1adff2a87007      MI 5X  d0c285513b785609  a7e79e3c2c85c8c7   \n",
       "4  8399be6b80847240        NaN  27efd832595503f6  b6457e2264266257   \n",
       "\n",
       "  op_device_code3           op_mac1           op_mac2            op_ip1  \\\n",
       "0             NaN               NaN  a8dc52f65085212e  55dd8936655c86f6   \n",
       "1             NaN               NaN               NaN               NaN   \n",
       "2             NaN  a8dc52f65085212e               NaN  2147d925e7a8ba3c   \n",
       "3             NaN               NaN  04a2d6c090518faa  c52efc665f0af581   \n",
       "4             NaN               NaN  1ab9dc3eae102aa6  0fe293bea342665a   \n",
       "\n",
       "             op_ip2           op_wifi op_geo_code        op_ip1_sub  \\\n",
       "0               NaN               NaN        wskx  e58e48fb9215116e   \n",
       "1  fc7fc47d6c93f554               NaN         NaN               NaN   \n",
       "2               NaN               NaN         NaN  3591678eca3f7a23   \n",
       "3               NaN  4ff1553b1c96360e        wm4v  fdb5e20f6a6f2cd7   \n",
       "4               NaN               NaN         NaN  f5009e2c6c13c80c   \n",
       "\n",
       "         op_ip2_sub  \n",
       "0               NaN  \n",
       "1  3502c553ea2ac187  \n",
       "2               NaN  \n",
       "3               NaN  \n",
       "4               NaN  "
      ]
     },
     "execution_count": 4,
     "metadata": {},
     "output_type": "execute_result"
    }
   ],
   "source": [
    "df_train_op.rename(columns=lambda col:'op_'+col if col!='UID' else col,inplace=True)\n",
    "df_train_op.head()"
   ]
  },
  {
   "cell_type": "markdown",
   "metadata": {},
   "source": [
    "## 交易ip字段统计"
   ]
  },
  {
   "cell_type": "code",
   "execution_count": 5,
   "metadata": {},
   "outputs": [],
   "source": [
    "df_tag_uids=df_train_tag['UID'] # 标签中的UID都是唯一的\n",
    "black_uids=df_train_tag[df_train_tag['Tag']==1]['UID']\n",
    "white_uids=df_train_tag[df_train_tag['Tag']==0]['UID']"
   ]
  },
  {
   "cell_type": "code",
   "execution_count": 6,
   "metadata": {},
   "outputs": [
    {
     "data": {
      "text/plain": [
       "<matplotlib.axes._subplots.AxesSubplot at 0x1b4da846780>"
      ]
     },
     "execution_count": 6,
     "metadata": {},
     "output_type": "execute_result"
    },
    {
     "data": {
      "image/png": "[encoded data removed]",
      "text/plain": [
       "<Figure size 432x288 with 1 Axes>"
      ]
     },
     "metadata": {},
     "output_type": "display_data"
    }
   ],
   "source": [
    "df_train_op[df_train_op['UID'].isin(black_uids)].groupby('UID')['op_ip1_sub'].count()[:20].plot('bar')"
   ]
  },
  {
   "cell_type": "code",
   "execution_count": 7,
   "metadata": {},
   "outputs": [
    {
     "data": {
      "text/plain": [
       "<matplotlib.axes._subplots.AxesSubplot at 0x1b4de9011d0>"
      ]
     },
     "execution_count": 7,
     "metadata": {},
     "output_type": "execute_result"
    },
    {
     "data": {
      "image/png": "[encoded data removed]",
      "text/plain": [
       "<Figure size 432x288 with 1 Axes>"
      ]
     },
     "metadata": {},
     "output_type": "display_data"
    }
   ],
   "source": [
    "df_train_op[df_train_op['UID'].isin(white_uids)].groupby('UID')['op_ip1_sub'].count()[:20].plot('bar')"
   ]
  },
  {
   "cell_type": "markdown",
   "metadata": {},
   "source": [
    "## 操作版本号统计"
   ]
  },
  {
   "cell_type": "code",
   "execution_count": 21,
   "metadata": {},
   "outputs": [
    {
     "data": {
      "text/plain": [
       "Text(0.5,1,'balck users')"
      ]
     },
     "execution_count": 21,
     "metadata": {},
     "output_type": "execute_result"
    },
    {
     "data": {
      "image/png": "[encoded data removed]",
      "text/plain": [
       "<Figure size 432x288 with 1 Axes>"
      ]
     },
     "metadata": {},
     "output_type": "display_data"
    }
   ],
   "source": [
    "df_train_op[df_train_op['UID'].isin(black_uids)]['op_version'].value_counts().plot('bar')\n",
    "plt.title(\"balck users\")"
   ]
  },
  {
   "cell_type": "code",
   "execution_count": 18,
   "metadata": {},
   "outputs": [
    {
     "data": {
      "text/plain": [
       "7.0.0     16453\n",
       "4.1.7      7518\n",
       "7.0.5      7084\n",
       "7.0.7      6526\n",
       "7.0.9      3542\n",
       "6.6.3      2550\n",
       "6.5.0       723\n",
       "7.0.2       496\n",
       "6.6.2       386\n",
       "6.1.0       127\n",
       "1.2.0        13\n",
       "5.8.24        9\n",
       "Name: op_version, dtype: int64"
      ]
     },
     "execution_count": 18,
     "metadata": {},
     "output_type": "execute_result"
    }
   ],
   "source": [
    "df_train_op[df_train_op['UID'].isin(black_uids)]['op_version'].value_counts()[:20]\n"
   ]
  },
  {
   "cell_type": "code",
   "execution_count": 22,
   "metadata": {},
   "outputs": [
    {
     "data": {
      "text/plain": [
       "Text(0.5,1,'white users')"
      ]
     },
     "execution_count": 22,
     "metadata": {},
     "output_type": "execute_result"
    },
    {
     "data": {
      "image/png": "[encoded data removed]",
      "text/plain": [
       "<Figure size 432x288 with 1 Axes>"
      ]
     },
     "metadata": {},
     "output_type": "display_data"
    }
   ],
   "source": [
    "df_train_op[df_train_op['UID'].isin(white_uids)]['op_version'].value_counts().plot('bar')\n",
    "plt.title(\"white users\")"
   ]
  },
  {
   "cell_type": "code",
   "execution_count": 20,
   "metadata": {},
   "outputs": [
    {
     "data": {
      "text/plain": [
       "7.0.5             123908\n",
       "7.0.9             114059\n",
       "7.0.7              23981\n",
       "7.0.2              21712\n",
       "6.6.2               8038\n",
       "7.0.0               2527\n",
       "6.6.3               1360\n",
       "5.8.24               369\n",
       "7.0.1                332\n",
       "5.8.21               165\n",
       "1.0.0                108\n",
       "5.8.20                52\n",
       "6.0.4                 36\n",
       "5.8.15                26\n",
       "1.2.0                 17\n",
       "5.8.23                14\n",
       "5.8.22                14\n",
       "7.1.0                  6\n",
       "6.5.0                  6\n",
       "6.6.0                  5\n",
       "5.8.18                 5\n",
       "6.5.3                  4\n",
       "6.5.7                  3\n",
       "6.5.4                  3\n",
       "3.9.3                  2\n",
       "4.2.2                  1\n",
       "4.2.18.0522.r2         1\n",
       "4.3.0                  1\n",
       "Name: op_version, dtype: int64"
      ]
     },
     "execution_count": 20,
     "metadata": {},
     "output_type": "execute_result"
    }
   ],
   "source": [
    "df_train_op[df_train_op['UID'].isin(white_uids)]['op_version'].value_counts()"
   ]
  },
  {
   "cell_type": "markdown",
   "metadata": {},
   "source": [
    "从上图可以看出，羊毛党喜欢使用低版本的客户端，白用户喜欢使用高版本的客户端,这是一个区别性比较大的特征"
   ]
  },
  {
   "cell_type": "code",
   "execution_count": 10,
   "metadata": {},
   "outputs": [
    {
     "data": {
      "text/plain": [
       "['7.0.5',\n",
       " '7.0.9',\n",
       " '7.0.7',\n",
       " '7.0.2',\n",
       " '7.0.0',\n",
       " '6.6.2',\n",
       " '4.1.7',\n",
       " '6.6.3',\n",
       " '6.5.0',\n",
       " '5.8.24',\n",
       " '7.0.1',\n",
       " '5.8.21',\n",
       " '6.1.0',\n",
       " '1.0.0',\n",
       " '5.8.20',\n",
       " '6.0.4',\n",
       " '1.2.0',\n",
       " '5.8.15',\n",
       " '5.8.23',\n",
       " '5.8.22',\n",
       " '7.1.0',\n",
       " '6.6.0',\n",
       " '5.8.18',\n",
       " '6.5.3',\n",
       " '6.5.7',\n",
       " '6.5.4',\n",
       " '3.9.3',\n",
       " '4.2.2',\n",
       " '4.2.18.0522.r2',\n",
       " '4.3.0']"
      ]
     },
     "execution_count": 10,
     "metadata": {},
     "output_type": "execute_result"
    }
   ],
   "source": [
    "op_versions=dict(df_train_op['op_version'].value_counts()).keys()\n",
    "op_versions=list(op_versions)\n",
    "op_versions"
   ]
  },
  {
   "cell_type": "markdown",
   "metadata": {},
   "source": [
    "## 构建特征1"
   ]
  },
  {
   "cell_type": "code",
   "execution_count": 11,
   "metadata": {},
   "outputs": [
    {
     "data": {
      "text/plain": [
       "UID    op_version\n",
       "10000  7.0.7          5\n",
       "       7.0.5          4\n",
       "10001  6.6.2         48\n",
       "10002  7.0.9         10\n",
       "10003  7.0.9         15\n",
       "10004  7.0.5         20\n",
       "       7.0.9         14\n",
       "10006  7.0.2          4\n",
       "10007  7.0.9         13\n",
       "10008  7.0.9         18\n",
       "Name: op_version, dtype: int64"
      ]
     },
     "execution_count": 11,
     "metadata": {},
     "output_type": "execute_result"
    }
   ],
   "source": [
    "uid_op_ver=df_train_op[df_train_op['UID'].isin(df_tag_uids)].groupby('UID')['op_version']\n",
    "uid_op_ver.value_counts()[:10]"
   ]
  },
  {
   "cell_type": "code",
   "execution_count": 12,
   "metadata": {},
   "outputs": [
    {
     "data": {
      "text/plain": [
       "[(10000, '7.0.7'),\n",
       " (10000, '7.0.5'),\n",
       " (10001, '6.6.2'),\n",
       " (10002, '7.0.9'),\n",
       " (10003, '7.0.9'),\n",
       " (10004, '7.0.5'),\n",
       " (10004, '7.0.9'),\n",
       " (10006, '7.0.2'),\n",
       " (10007, '7.0.9'),\n",
       " (10008, '7.0.9')]"
      ]
     },
     "execution_count": 12,
     "metadata": {},
     "output_type": "execute_result"
    }
   ],
   "source": [
    "uid_op_ver.value_counts()[:10].index.tolist()"
   ]
  },
  {
   "cell_type": "code",
   "execution_count": 13,
   "metadata": {},
   "outputs": [
    {
     "data": {
      "text/plain": [
       "{'1.0.0': 0,\n",
       " '1.2.0': 1,\n",
       " '3.9.3': 2,\n",
       " '4.1.7': 3,\n",
       " '4.2.18.0522.r2': 4,\n",
       " '4.2.2': 5,\n",
       " '4.3.0': 6,\n",
       " '5.8.15': 7,\n",
       " '5.8.18': 8,\n",
       " '5.8.20': 9,\n",
       " '5.8.21': 10,\n",
       " '5.8.22': 11,\n",
       " '5.8.23': 12,\n",
       " '5.8.24': 13,\n",
       " '6.0.4': 14,\n",
       " '6.1.0': 15,\n",
       " '6.5.0': 16,\n",
       " '6.5.3': 17,\n",
       " '6.5.4': 18,\n",
       " '6.5.7': 19,\n",
       " '6.6.0': 20,\n",
       " '6.6.2': 21,\n",
       " '6.6.3': 22,\n",
       " '7.0.0': 23,\n",
       " '7.0.1': 24,\n",
       " '7.0.2': 25,\n",
       " '7.0.5': 26,\n",
       " '7.0.7': 27,\n",
       " '7.0.9': 28,\n",
       " '7.1.0': 29}"
      ]
     },
     "execution_count": 13,
     "metadata": {},
     "output_type": "execute_result"
    }
   ],
   "source": [
    "op_versions.sort()\n",
    "index=range(len(op_versions))\n",
    "ver_index=dict(zip(op_versions,index))\n",
    "ver_index"
   ]
  },
  {
   "cell_type": "code",
   "execution_count": 16,
   "metadata": {},
   "outputs": [],
   "source": [
    "# 此种范式构建特征行不通，sklearn不能接受既有数值又有数组的数据\n",
    "# import numpy as np\n",
    "# uid_op_ver=df_train_op[df_train_op['UID'].isin(df_tag_uids)]\n",
    "# all_vers=[]\n",
    "# for uid in df_tag_uids:\n",
    "#     ver_arr=np.zeros(30)\n",
    "#     ver=dict(uid_op_ver[uid_op_ver['UID']==uid]['op_version'].value_counts())\n",
    "#     for key,value in ver.items():\n",
    "#         index=ver_index[key]\n",
    "#         ver_arr[index]=value\n",
    "#     all_vers.append(ver_arr)\n",
    "# df_train_tag['op_version']=all_vers\n",
    "# df_train_tag.head()"
   ]
  },
  {
   "cell_type": "markdown",
   "metadata": {},
   "source": [
    "## 构建特征2\n",
    "因为版本号高低可能是一个比较明显的特征，我们将其转为数值，\n",
    "- 求下每个用户的版本号平均值，\n",
    "- 选取每个用户使用频率比较高的版本号作为特征"
   ]
  },
  {
   "cell_type": "code",
   "execution_count": 37,
   "metadata": {},
   "outputs": [
    {
     "data": {
      "text/plain": [
       "UID    op_version\n",
       "10000  7.0.7          5\n",
       "       7.0.5          4\n",
       "10019  7.0.5          5\n",
       "       7.0.7          5\n",
       "10021  7.0.0         75\n",
       "       4.1.7         42\n",
       "10041  7.0.5          8\n",
       "10058  7.0.7         12\n",
       "       7.0.5         11\n",
       "10062  7.0.5          7\n",
       "       7.0.0          4\n",
       "       6.1.0          1\n",
       "10064  7.0.0          7\n",
       "10076  7.0.7          7\n",
       "10097  7.0.5         12\n",
       "10102  7.0.5          3\n",
       "10105  7.0.9          7\n",
       "10123  7.0.0         68\n",
       "       4.1.7         33\n",
       "10165  7.0.5         17\n",
       "Name: op_version, dtype: int64"
      ]
     },
     "execution_count": 37,
     "metadata": {},
     "output_type": "execute_result"
    }
   ],
   "source": [
    "uid_op_ver=df_train_op[df_train_op['UID'].isin(black_uids)].groupby('UID')['op_version']\n",
    "uid_op_ver.value_counts()[:20]"
   ]
  },
  {
   "cell_type": "code",
   "execution_count": 46,
   "metadata": {},
   "outputs": [
    {
     "data": {
      "text/plain": [
       "45427"
      ]
     },
     "execution_count": 46,
     "metadata": {},
     "output_type": "execute_result"
    }
   ],
   "source": [
    "df_train_op[df_train_op['UID'].isin(black_uids)]['op_version'].count()"
   ]
  },
  {
   "cell_type": "code",
   "execution_count": 48,
   "metadata": {},
   "outputs": [
    {
     "data": {
      "text/plain": [
       "(63520,)"
      ]
     },
     "execution_count": 48,
     "metadata": {},
     "output_type": "execute_result"
    }
   ],
   "source": [
    "df_train_op[df_train_op['UID'].isin(black_uids)]['op_version'].shape"
   ]
  },
  {
   "cell_type": "code",
   "execution_count": null,
   "metadata": {},
   "outputs": [],
   "source": []
  }
 ],
 "metadata": {
  "kernelspec": {
   "display_name": "Python 3",
   "language": "python",
   "name": "python3"
  },
  "language_info": {
   "codemirror_mode": {
    "name": "ipython",
    "version": 3
   },
   "file_extension": ".py",
   "mimetype": "text/x-python",
   "name": "python",
   "nbconvert_exporter": "python",
   "pygments_lexer": "ipython3",
   "version": "3.6.5"
  }
 },
 "nbformat": 4,
 "nbformat_minor": 2
}
