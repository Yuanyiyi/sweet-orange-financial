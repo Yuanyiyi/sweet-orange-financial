{
 "cells": [
  {
   "cell_type": "code",
   "execution_count": 1,
   "metadata": {},
   "outputs": [],
   "source": [
    "import pandas as pd\n",
    "import matplotlib.pyplot as plt\n",
    "df_train_trans=pd.read_csv('input/transaction_TRAIN.csv') # (161965, 27)\n",
    "df_train_op=pd.read_csv('input/operation_TRAIN.csv') # (424481, 20)\n",
    "df_train_tag=pd.read_csv('input/tag_TRAIN.csv') # (13422, 2)"
   ]
  },
  {
   "cell_type": "code",
   "execution_count": 2,
   "metadata": {},
   "outputs": [
    {
     "data": {
      "text/html": [
       "<div>\n",
       "<style scoped>\n",
       "    .dataframe tbody tr th:only-of-type {\n",
       "        vertical-align: middle;\n",
       "    }\n",
       "\n",
       "    .dataframe tbody tr th {\n",
       "        vertical-align: top;\n",
       "    }\n",
       "\n",
       "    .dataframe thead th {\n",
       "        text-align: right;\n",
       "    }\n",
       "</style>\n",
       "<table border=\"1\" class=\"dataframe\">\n",
       "  <thead>\n",
       "    <tr style=\"text-align: right;\">\n",
       "      <th></th>\n",
       "      <th>UID</th>\n",
       "      <th>channel</th>\n",
       "      <th>day</th>\n",
       "      <th>time</th>\n",
       "      <th>trans_amt</th>\n",
       "      <th>amt_src1</th>\n",
       "      <th>merchant</th>\n",
       "      <th>code1</th>\n",
       "      <th>code2</th>\n",
       "      <th>trans_type1</th>\n",
       "      <th>...</th>\n",
       "      <th>ip1</th>\n",
       "      <th>bal</th>\n",
       "      <th>amt_src2</th>\n",
       "      <th>acc_id2</th>\n",
       "      <th>acc_id3</th>\n",
       "      <th>geo_code</th>\n",
       "      <th>trans_type2</th>\n",
       "      <th>market_code</th>\n",
       "      <th>market_type</th>\n",
       "      <th>ip1_sub</th>\n",
       "    </tr>\n",
       "  </thead>\n",
       "  <tbody>\n",
       "    <tr>\n",
       "      <th>0</th>\n",
       "      <td>19092</td>\n",
       "      <td>102</td>\n",
       "      <td>30</td>\n",
       "      <td>11:48:47</td>\n",
       "      <td>1459</td>\n",
       "      <td>acdbdb842ac20f1e</td>\n",
       "      <td>abc6bc660561e0eb</td>\n",
       "      <td>NaN</td>\n",
       "      <td>NaN</td>\n",
       "      <td>26bcf43a19df14c8</td>\n",
       "      <td>...</td>\n",
       "      <td>a664530c1fb20abe</td>\n",
       "      <td>1007</td>\n",
       "      <td>9fefed0a981dcb7a</td>\n",
       "      <td>NaN</td>\n",
       "      <td>NaN</td>\n",
       "      <td>wsbq</td>\n",
       "      <td>102.0</td>\n",
       "      <td>2ecf94369847c748</td>\n",
       "      <td>1.0</td>\n",
       "      <td>45f4ca1f4e9b9cb7</td>\n",
       "    </tr>\n",
       "    <tr>\n",
       "      <th>1</th>\n",
       "      <td>13465</td>\n",
       "      <td>140</td>\n",
       "      <td>23</td>\n",
       "      <td>16:58:03</td>\n",
       "      <td>725</td>\n",
       "      <td>4d7831c6f695ab19</td>\n",
       "      <td>7a87b1aa20972d48</td>\n",
       "      <td>NaN</td>\n",
       "      <td>NaN</td>\n",
       "      <td>c2f2023d279665b2</td>\n",
       "      <td>...</td>\n",
       "      <td>52abe1e300a8aa10</td>\n",
       "      <td>100</td>\n",
       "      <td>NaN</td>\n",
       "      <td>NaN</td>\n",
       "      <td>NaN</td>\n",
       "      <td>wte7</td>\n",
       "      <td>105.0</td>\n",
       "      <td>NaN</td>\n",
       "      <td>NaN</td>\n",
       "      <td>2b416f1d7e89ad3b</td>\n",
       "    </tr>\n",
       "    <tr>\n",
       "      <th>2</th>\n",
       "      <td>13713</td>\n",
       "      <td>140</td>\n",
       "      <td>22</td>\n",
       "      <td>09:56:39</td>\n",
       "      <td>127</td>\n",
       "      <td>c5fc631370cabc0d</td>\n",
       "      <td>cfd035fc7e0a53b2</td>\n",
       "      <td>NaN</td>\n",
       "      <td>NaN</td>\n",
       "      <td>c2f2023d279665b2</td>\n",
       "      <td>...</td>\n",
       "      <td>e4c132d02ff6c095</td>\n",
       "      <td>100</td>\n",
       "      <td>NaN</td>\n",
       "      <td>NaN</td>\n",
       "      <td>NaN</td>\n",
       "      <td>ws7n</td>\n",
       "      <td>105.0</td>\n",
       "      <td>NaN</td>\n",
       "      <td>NaN</td>\n",
       "      <td>ff71a556d86c4b8f</td>\n",
       "    </tr>\n",
       "    <tr>\n",
       "      <th>3</th>\n",
       "      <td>22703</td>\n",
       "      <td>140</td>\n",
       "      <td>1</td>\n",
       "      <td>18:11:45</td>\n",
       "      <td>99317</td>\n",
       "      <td>a571c7fda8b7df37</td>\n",
       "      <td>c71c876b8979028e</td>\n",
       "      <td>NaN</td>\n",
       "      <td>NaN</td>\n",
       "      <td>c2f2023d279665b2</td>\n",
       "      <td>...</td>\n",
       "      <td>e1c78a56cc9dfc8b</td>\n",
       "      <td>100</td>\n",
       "      <td>fbf6bf3c8927414c</td>\n",
       "      <td>NaN</td>\n",
       "      <td>NaN</td>\n",
       "      <td>wqj6</td>\n",
       "      <td>NaN</td>\n",
       "      <td>NaN</td>\n",
       "      <td>NaN</td>\n",
       "      <td>cf1527a0b4173e8f</td>\n",
       "    </tr>\n",
       "    <tr>\n",
       "      <th>4</th>\n",
       "      <td>17816</td>\n",
       "      <td>140</td>\n",
       "      <td>22</td>\n",
       "      <td>13:04:02</td>\n",
       "      <td>3361</td>\n",
       "      <td>c5fc631370cabc0d</td>\n",
       "      <td>6628f5ca013e3582</td>\n",
       "      <td>NaN</td>\n",
       "      <td>NaN</td>\n",
       "      <td>c2f2023d279665b2</td>\n",
       "      <td>...</td>\n",
       "      <td>abb6b4b8f15be6d6</td>\n",
       "      <td>100</td>\n",
       "      <td>NaN</td>\n",
       "      <td>NaN</td>\n",
       "      <td>NaN</td>\n",
       "      <td>NaN</td>\n",
       "      <td>105.0</td>\n",
       "      <td>NaN</td>\n",
       "      <td>NaN</td>\n",
       "      <td>cbc62c2b1cb7deb9</td>\n",
       "    </tr>\n",
       "  </tbody>\n",
       "</table>\n",
       "<p>5 rows × 27 columns</p>\n",
       "</div>"
      ],
      "text/plain": [
       "     UID  channel  day      time  trans_amt          amt_src1  \\\n",
       "0  19092      102   30  11:48:47       1459  acdbdb842ac20f1e   \n",
       "1  13465      140   23  16:58:03        725  4d7831c6f695ab19   \n",
       "2  13713      140   22  09:56:39        127  c5fc631370cabc0d   \n",
       "3  22703      140    1  18:11:45      99317  a571c7fda8b7df37   \n",
       "4  17816      140   22  13:04:02       3361  c5fc631370cabc0d   \n",
       "\n",
       "           merchant code1 code2       trans_type1        ...         \\\n",
       "0  abc6bc660561e0eb   NaN   NaN  26bcf43a19df14c8        ...          \n",
       "1  7a87b1aa20972d48   NaN   NaN  c2f2023d279665b2        ...          \n",
       "2  cfd035fc7e0a53b2   NaN   NaN  c2f2023d279665b2        ...          \n",
       "3  c71c876b8979028e   NaN   NaN  c2f2023d279665b2        ...          \n",
       "4  6628f5ca013e3582   NaN   NaN  c2f2023d279665b2        ...          \n",
       "\n",
       "                ip1   bal          amt_src2 acc_id2 acc_id3 geo_code  \\\n",
       "0  a664530c1fb20abe  1007  9fefed0a981dcb7a     NaN     NaN     wsbq   \n",
       "1  52abe1e300a8aa10   100               NaN     NaN     NaN     wte7   \n",
       "2  e4c132d02ff6c095   100               NaN     NaN     NaN     ws7n   \n",
       "3  e1c78a56cc9dfc8b   100  fbf6bf3c8927414c     NaN     NaN     wqj6   \n",
       "4  abb6b4b8f15be6d6   100               NaN     NaN     NaN      NaN   \n",
       "\n",
       "  trans_type2       market_code  market_type           ip1_sub  \n",
       "0       102.0  2ecf94369847c748          1.0  45f4ca1f4e9b9cb7  \n",
       "1       105.0               NaN          NaN  2b416f1d7e89ad3b  \n",
       "2       105.0               NaN          NaN  ff71a556d86c4b8f  \n",
       "3         NaN               NaN          NaN  cf1527a0b4173e8f  \n",
       "4       105.0               NaN          NaN  cbc62c2b1cb7deb9  \n",
       "\n",
       "[5 rows x 27 columns]"
      ]
     },
     "execution_count": 2,
     "metadata": {},
     "output_type": "execute_result"
    }
   ],
   "source": [
    "df_train_trans.head()"
   ]
  },
  {
   "cell_type": "markdown",
   "metadata": {},
   "source": [
    "## 空值统计"
   ]
  },
  {
   "cell_type": "markdown",
   "metadata": {},
   "source": [
    "- 交易数据"
   ]
  },
  {
   "cell_type": "code",
   "execution_count": 3,
   "metadata": {},
   "outputs": [
    {
     "data": {
      "image/png": "[encoded data removed]",
      "text/plain": [
       "<Figure size 432x288 with 1 Axes>"
      ]
     },
     "metadata": {},
     "output_type": "display_data"
    }
   ],
   "source": [
    "df_train_trans.count().plot(kind='bar')\n",
    "plt.show()"
   ]
  },
  {
   "cell_type": "code",
   "execution_count": 4,
   "metadata": {},
   "outputs": [
    {
     "data": {
      "text/plain": [
       "UID             161965\n",
       "channel         161965\n",
       "day             161965\n",
       "time            161965\n",
       "trans_amt       161965\n",
       "amt_src1        161965\n",
       "merchant        161965\n",
       "code1            17606\n",
       "code2             3187\n",
       "trans_type1     161965\n",
       "acc_id1          86635\n",
       "device_code1     94701\n",
       "device_code2     91300\n",
       "device_code3     30028\n",
       "device1         123881\n",
       "device2         132382\n",
       "mac1             94071\n",
       "ip1             132699\n",
       "bal             161965\n",
       "amt_src2        107170\n",
       "acc_id2          26669\n",
       "acc_id3          26906\n",
       "geo_code        112548\n",
       "trans_type2     151013\n",
       "market_code      20536\n",
       "market_type      20536\n",
       "ip1_sub         132699\n",
       "dtype: int64"
      ]
     },
     "execution_count": 4,
     "metadata": {},
     "output_type": "execute_result"
    }
   ],
   "source": [
    "df_train_trans.count()"
   ]
  },
  {
   "cell_type": "markdown",
   "metadata": {},
   "source": [
    "- 操作数据"
   ]
  },
  {
   "cell_type": "code",
   "execution_count": 5,
   "metadata": {},
   "outputs": [
    {
     "data": {
      "image/png": "[encoded data removed]",
      "text/plain": [
       "<Figure size 432x288 with 1 Axes>"
      ]
     },
     "metadata": {},
     "output_type": "display_data"
    }
   ],
   "source": [
    "df_train_op.count().plot(kind='bar')\n",
    "plt.show()"
   ]
  },
  {
   "cell_type": "code",
   "execution_count": 6,
   "metadata": {},
   "outputs": [
    {
     "data": {
      "text/plain": [
       "UID             424481\n",
       "day             424481\n",
       "mode            424481\n",
       "success         391250\n",
       "time            424481\n",
       "os              424481\n",
       "version         342182\n",
       "device1         342616\n",
       "device2         283232\n",
       "device_code1    279284\n",
       "device_code2    271064\n",
       "device_code3     62950\n",
       "mac1             34400\n",
       "mac2            244265\n",
       "ip1             337765\n",
       "ip2              44700\n",
       "wifi            119665\n",
       "geo_code        250435\n",
       "ip1_sub         337765\n",
       "ip2_sub          44700\n",
       "dtype: int64"
      ]
     },
     "execution_count": 6,
     "metadata": {},
     "output_type": "execute_result"
    }
   ],
   "source": [
    "df_train_op.count()"
   ]
  },
  {
   "cell_type": "markdown",
   "metadata": {},
   "source": [
    "- 类别统计\n",
    "\n",
    "0 1 数量统计"
   ]
  },
  {
   "cell_type": "code",
   "execution_count": 7,
   "metadata": {},
   "outputs": [
    {
     "data": {
      "image/png": "[encoded data removed]",
      "text/plain": [
       "<Figure size 432x288 with 1 Axes>"
      ]
     },
     "metadata": {},
     "output_type": "display_data"
    }
   ],
   "source": [
    "df_train_tag['Tag'].value_counts().plot('bar')\n",
    "plt.show()"
   ]
  },
  {
   "cell_type": "markdown",
   "metadata": {},
   "source": [
    "从上图可以看出，白黑用户的比例接近10:1"
   ]
  },
  {
   "cell_type": "code",
   "execution_count": 8,
   "metadata": {},
   "outputs": [
    {
     "data": {
      "text/plain": [
       "0    11894\n",
       "1     1528\n",
       "Name: Tag, dtype: int64"
      ]
     },
     "execution_count": 8,
     "metadata": {},
     "output_type": "execute_result"
    }
   ],
   "source": [
    "df_train_tag['Tag'].value_counts()"
   ]
  },
  {
   "cell_type": "markdown",
   "metadata": {},
   "source": [
    "## 交易数据和操作数据\n",
    "\n",
    "存在相同弄的列名，查看相同列的数据是否相同，如果相同，就去一个值"
   ]
  },
  {
   "cell_type": "code",
   "execution_count": 9,
   "metadata": {},
   "outputs": [
    {
     "data": {
      "text/plain": [
       "{'UID',\n",
       " 'day',\n",
       " 'device1',\n",
       " 'device2',\n",
       " 'device_code1',\n",
       " 'device_code2',\n",
       " 'device_code3',\n",
       " 'geo_code',\n",
       " 'ip1',\n",
       " 'ip1_sub',\n",
       " 'mac1',\n",
       " 'time'}"
      ]
     },
     "execution_count": 9,
     "metadata": {},
     "output_type": "execute_result"
    }
   ],
   "source": [
    "trans_cols=set(df_train_trans.columns)\n",
    "op_cols=set(df_train_op.columns)\n",
    "trans_cols.intersection(op_cols)"
   ]
  },
  {
   "cell_type": "code",
   "execution_count": 10,
   "metadata": {},
   "outputs": [
    {
     "data": {
      "text/plain": [
       "0    wsbq\n",
       "1    wte7\n",
       "2    ws7n\n",
       "3    wqj6\n",
       "4     NaN\n",
       "Name: geo_code, dtype: object"
      ]
     },
     "execution_count": 10,
     "metadata": {},
     "output_type": "execute_result"
    }
   ],
   "source": [
    "df_train_trans['geo_code'].head()"
   ]
  },
  {
   "cell_type": "code",
   "execution_count": 11,
   "metadata": {},
   "outputs": [
    {
     "data": {
      "text/plain": [
       "0    wskx\n",
       "1     NaN\n",
       "2     NaN\n",
       "3    wm4v\n",
       "4     NaN\n",
       "Name: geo_code, dtype: object"
      ]
     },
     "execution_count": 11,
     "metadata": {},
     "output_type": "execute_result"
    }
   ],
   "source": [
    "df_train_op['geo_code'].head()"
   ]
  },
  {
   "cell_type": "markdown",
   "metadata": {},
   "source": [
    "我们可以看出两个相同列的数据不同"
   ]
  },
  {
   "cell_type": "markdown",
   "metadata": {},
   "source": [
    "## 基本统计\n",
    "我们直接观察数据或者输出，我们发现操作表和交易表中的UID大多是重复的，所以不能直接将表合并作为特征，需要做统计特征或者其他手段来构建特征。\n",
    "\n",
    "### 重命名列名，以便识别"
   ]
  },
  {
   "cell_type": "code",
   "execution_count": 12,
   "metadata": {},
   "outputs": [
    {
     "data": {
      "text/html": [
       "<div>\n",
       "<style scoped>\n",
       "    .dataframe tbody tr th:only-of-type {\n",
       "        vertical-align: middle;\n",
       "    }\n",
       "\n",
       "    .dataframe tbody tr th {\n",
       "        vertical-align: top;\n",
       "    }\n",
       "\n",
       "    .dataframe thead th {\n",
       "        text-align: right;\n",
       "    }\n",
       "</style>\n",
       "<table border=\"1\" class=\"dataframe\">\n",
       "  <thead>\n",
       "    <tr style=\"text-align: right;\">\n",
       "      <th></th>\n",
       "      <th>UID</th>\n",
       "      <th>trans_channel</th>\n",
       "      <th>trans_day</th>\n",
       "      <th>trans_time</th>\n",
       "      <th>trans_trans_amt</th>\n",
       "      <th>trans_amt_src1</th>\n",
       "      <th>trans_merchant</th>\n",
       "      <th>trans_code1</th>\n",
       "      <th>trans_code2</th>\n",
       "      <th>trans_trans_type1</th>\n",
       "      <th>...</th>\n",
       "      <th>trans_ip1</th>\n",
       "      <th>trans_bal</th>\n",
       "      <th>trans_amt_src2</th>\n",
       "      <th>trans_acc_id2</th>\n",
       "      <th>trans_acc_id3</th>\n",
       "      <th>trans_geo_code</th>\n",
       "      <th>trans_trans_type2</th>\n",
       "      <th>trans_market_code</th>\n",
       "      <th>trans_market_type</th>\n",
       "      <th>trans_ip1_sub</th>\n",
       "    </tr>\n",
       "  </thead>\n",
       "  <tbody>\n",
       "    <tr>\n",
       "      <th>0</th>\n",
       "      <td>19092</td>\n",
       "      <td>102</td>\n",
       "      <td>30</td>\n",
       "      <td>11:48:47</td>\n",
       "      <td>1459</td>\n",
       "      <td>acdbdb842ac20f1e</td>\n",
       "      <td>abc6bc660561e0eb</td>\n",
       "      <td>NaN</td>\n",
       "      <td>NaN</td>\n",
       "      <td>26bcf43a19df14c8</td>\n",
       "      <td>...</td>\n",
       "      <td>a664530c1fb20abe</td>\n",
       "      <td>1007</td>\n",
       "      <td>9fefed0a981dcb7a</td>\n",
       "      <td>NaN</td>\n",
       "      <td>NaN</td>\n",
       "      <td>wsbq</td>\n",
       "      <td>102.0</td>\n",
       "      <td>2ecf94369847c748</td>\n",
       "      <td>1.0</td>\n",
       "      <td>45f4ca1f4e9b9cb7</td>\n",
       "    </tr>\n",
       "    <tr>\n",
       "      <th>1</th>\n",
       "      <td>13465</td>\n",
       "      <td>140</td>\n",
       "      <td>23</td>\n",
       "      <td>16:58:03</td>\n",
       "      <td>725</td>\n",
       "      <td>4d7831c6f695ab19</td>\n",
       "      <td>7a87b1aa20972d48</td>\n",
       "      <td>NaN</td>\n",
       "      <td>NaN</td>\n",
       "      <td>c2f2023d279665b2</td>\n",
       "      <td>...</td>\n",
       "      <td>52abe1e300a8aa10</td>\n",
       "      <td>100</td>\n",
       "      <td>NaN</td>\n",
       "      <td>NaN</td>\n",
       "      <td>NaN</td>\n",
       "      <td>wte7</td>\n",
       "      <td>105.0</td>\n",
       "      <td>NaN</td>\n",
       "      <td>NaN</td>\n",
       "      <td>2b416f1d7e89ad3b</td>\n",
       "    </tr>\n",
       "    <tr>\n",
       "      <th>2</th>\n",
       "      <td>13713</td>\n",
       "      <td>140</td>\n",
       "      <td>22</td>\n",
       "      <td>09:56:39</td>\n",
       "      <td>127</td>\n",
       "      <td>c5fc631370cabc0d</td>\n",
       "      <td>cfd035fc7e0a53b2</td>\n",
       "      <td>NaN</td>\n",
       "      <td>NaN</td>\n",
       "      <td>c2f2023d279665b2</td>\n",
       "      <td>...</td>\n",
       "      <td>e4c132d02ff6c095</td>\n",
       "      <td>100</td>\n",
       "      <td>NaN</td>\n",
       "      <td>NaN</td>\n",
       "      <td>NaN</td>\n",
       "      <td>ws7n</td>\n",
       "      <td>105.0</td>\n",
       "      <td>NaN</td>\n",
       "      <td>NaN</td>\n",
       "      <td>ff71a556d86c4b8f</td>\n",
       "    </tr>\n",
       "    <tr>\n",
       "      <th>3</th>\n",
       "      <td>22703</td>\n",
       "      <td>140</td>\n",
       "      <td>1</td>\n",
       "      <td>18:11:45</td>\n",
       "      <td>99317</td>\n",
       "      <td>a571c7fda8b7df37</td>\n",
       "      <td>c71c876b8979028e</td>\n",
       "      <td>NaN</td>\n",
       "      <td>NaN</td>\n",
       "      <td>c2f2023d279665b2</td>\n",
       "      <td>...</td>\n",
       "      <td>e1c78a56cc9dfc8b</td>\n",
       "      <td>100</td>\n",
       "      <td>fbf6bf3c8927414c</td>\n",
       "      <td>NaN</td>\n",
       "      <td>NaN</td>\n",
       "      <td>wqj6</td>\n",
       "      <td>NaN</td>\n",
       "      <td>NaN</td>\n",
       "      <td>NaN</td>\n",
       "      <td>cf1527a0b4173e8f</td>\n",
       "    </tr>\n",
       "    <tr>\n",
       "      <th>4</th>\n",
       "      <td>17816</td>\n",
       "      <td>140</td>\n",
       "      <td>22</td>\n",
       "      <td>13:04:02</td>\n",
       "      <td>3361</td>\n",
       "      <td>c5fc631370cabc0d</td>\n",
       "      <td>6628f5ca013e3582</td>\n",
       "      <td>NaN</td>\n",
       "      <td>NaN</td>\n",
       "      <td>c2f2023d279665b2</td>\n",
       "      <td>...</td>\n",
       "      <td>abb6b4b8f15be6d6</td>\n",
       "      <td>100</td>\n",
       "      <td>NaN</td>\n",
       "      <td>NaN</td>\n",
       "      <td>NaN</td>\n",
       "      <td>NaN</td>\n",
       "      <td>105.0</td>\n",
       "      <td>NaN</td>\n",
       "      <td>NaN</td>\n",
       "      <td>cbc62c2b1cb7deb9</td>\n",
       "    </tr>\n",
       "  </tbody>\n",
       "</table>\n",
       "<p>5 rows × 27 columns</p>\n",
       "</div>"
      ],
      "text/plain": [
       "     UID  trans_channel  trans_day trans_time  trans_trans_amt  \\\n",
       "0  19092            102         30   11:48:47             1459   \n",
       "1  13465            140         23   16:58:03              725   \n",
       "2  13713            140         22   09:56:39              127   \n",
       "3  22703            140          1   18:11:45            99317   \n",
       "4  17816            140         22   13:04:02             3361   \n",
       "\n",
       "     trans_amt_src1    trans_merchant trans_code1 trans_code2  \\\n",
       "0  acdbdb842ac20f1e  abc6bc660561e0eb         NaN         NaN   \n",
       "1  4d7831c6f695ab19  7a87b1aa20972d48         NaN         NaN   \n",
       "2  c5fc631370cabc0d  cfd035fc7e0a53b2         NaN         NaN   \n",
       "3  a571c7fda8b7df37  c71c876b8979028e         NaN         NaN   \n",
       "4  c5fc631370cabc0d  6628f5ca013e3582         NaN         NaN   \n",
       "\n",
       "  trans_trans_type1        ...                trans_ip1 trans_bal  \\\n",
       "0  26bcf43a19df14c8        ...         a664530c1fb20abe      1007   \n",
       "1  c2f2023d279665b2        ...         52abe1e300a8aa10       100   \n",
       "2  c2f2023d279665b2        ...         e4c132d02ff6c095       100   \n",
       "3  c2f2023d279665b2        ...         e1c78a56cc9dfc8b       100   \n",
       "4  c2f2023d279665b2        ...         abb6b4b8f15be6d6       100   \n",
       "\n",
       "     trans_amt_src2 trans_acc_id2 trans_acc_id3 trans_geo_code  \\\n",
       "0  9fefed0a981dcb7a           NaN           NaN           wsbq   \n",
       "1               NaN           NaN           NaN           wte7   \n",
       "2               NaN           NaN           NaN           ws7n   \n",
       "3  fbf6bf3c8927414c           NaN           NaN           wqj6   \n",
       "4               NaN           NaN           NaN            NaN   \n",
       "\n",
       "  trans_trans_type2 trans_market_code  trans_market_type     trans_ip1_sub  \n",
       "0             102.0  2ecf94369847c748                1.0  45f4ca1f4e9b9cb7  \n",
       "1             105.0               NaN                NaN  2b416f1d7e89ad3b  \n",
       "2             105.0               NaN                NaN  ff71a556d86c4b8f  \n",
       "3               NaN               NaN                NaN  cf1527a0b4173e8f  \n",
       "4             105.0               NaN                NaN  cbc62c2b1cb7deb9  \n",
       "\n",
       "[5 rows x 27 columns]"
      ]
     },
     "execution_count": 12,
     "metadata": {},
     "output_type": "execute_result"
    }
   ],
   "source": [
    "df_train_trans.rename(columns=lambda col:'trans_'+col if col!='UID' else col,inplace=True)\n",
    "df_train_trans.head()"
   ]
  },
  {
   "cell_type": "code",
   "execution_count": 13,
   "metadata": {},
   "outputs": [
    {
     "data": {
      "text/html": [
       "<div>\n",
       "<style scoped>\n",
       "    .dataframe tbody tr th:only-of-type {\n",
       "        vertical-align: middle;\n",
       "    }\n",
       "\n",
       "    .dataframe tbody tr th {\n",
       "        vertical-align: top;\n",
       "    }\n",
       "\n",
       "    .dataframe thead th {\n",
       "        text-align: right;\n",
       "    }\n",
       "</style>\n",
       "<table border=\"1\" class=\"dataframe\">\n",
       "  <thead>\n",
       "    <tr style=\"text-align: right;\">\n",
       "      <th></th>\n",
       "      <th>UID</th>\n",
       "      <th>op_day</th>\n",
       "      <th>op_mode</th>\n",
       "      <th>op_success</th>\n",
       "      <th>op_time</th>\n",
       "      <th>op_os</th>\n",
       "      <th>op_version</th>\n",
       "      <th>op_device1</th>\n",
       "      <th>op_device2</th>\n",
       "      <th>op_device_code1</th>\n",
       "      <th>op_device_code2</th>\n",
       "      <th>op_device_code3</th>\n",
       "      <th>op_mac1</th>\n",
       "      <th>op_mac2</th>\n",
       "      <th>op_ip1</th>\n",
       "      <th>op_ip2</th>\n",
       "      <th>op_wifi</th>\n",
       "      <th>op_geo_code</th>\n",
       "      <th>op_ip1_sub</th>\n",
       "      <th>op_ip2_sub</th>\n",
       "    </tr>\n",
       "  </thead>\n",
       "  <tbody>\n",
       "    <tr>\n",
       "      <th>0</th>\n",
       "      <td>10035</td>\n",
       "      <td>30</td>\n",
       "      <td>c8741ce15ceac2a4</td>\n",
       "      <td>1.0</td>\n",
       "      <td>17:51:50</td>\n",
       "      <td>102</td>\n",
       "      <td>7.0.9</td>\n",
       "      <td>49dd36968dbfadda</td>\n",
       "      <td>OPPO R11</td>\n",
       "      <td>ecb58082e0e9b8e2</td>\n",
       "      <td>00fa2e4ba95605ef</td>\n",
       "      <td>NaN</td>\n",
       "      <td>NaN</td>\n",
       "      <td>a8dc52f65085212e</td>\n",
       "      <td>55dd8936655c86f6</td>\n",
       "      <td>NaN</td>\n",
       "      <td>NaN</td>\n",
       "      <td>wskx</td>\n",
       "      <td>e58e48fb9215116e</td>\n",
       "      <td>NaN</td>\n",
       "    </tr>\n",
       "    <tr>\n",
       "      <th>1</th>\n",
       "      <td>16264</td>\n",
       "      <td>16</td>\n",
       "      <td>20a91b45ef8f8221</td>\n",
       "      <td>1.0</td>\n",
       "      <td>08:36:00</td>\n",
       "      <td>200</td>\n",
       "      <td>NaN</td>\n",
       "      <td>NaN</td>\n",
       "      <td>NaN</td>\n",
       "      <td>NaN</td>\n",
       "      <td>NaN</td>\n",
       "      <td>NaN</td>\n",
       "      <td>NaN</td>\n",
       "      <td>NaN</td>\n",
       "      <td>NaN</td>\n",
       "      <td>fc7fc47d6c93f554</td>\n",
       "      <td>NaN</td>\n",
       "      <td>NaN</td>\n",
       "      <td>NaN</td>\n",
       "      <td>3502c553ea2ac187</td>\n",
       "    </tr>\n",
       "    <tr>\n",
       "      <th>2</th>\n",
       "      <td>13162</td>\n",
       "      <td>8</td>\n",
       "      <td>b668e42707ee9c7b</td>\n",
       "      <td>0.0</td>\n",
       "      <td>18:09:57</td>\n",
       "      <td>102</td>\n",
       "      <td>7.0.5</td>\n",
       "      <td>630a1adff2a87007</td>\n",
       "      <td>MI MAX 2</td>\n",
       "      <td>1da225cb679a37eb</td>\n",
       "      <td>f18538156b8f9b57</td>\n",
       "      <td>NaN</td>\n",
       "      <td>a8dc52f65085212e</td>\n",
       "      <td>NaN</td>\n",
       "      <td>2147d925e7a8ba3c</td>\n",
       "      <td>NaN</td>\n",
       "      <td>NaN</td>\n",
       "      <td>NaN</td>\n",
       "      <td>3591678eca3f7a23</td>\n",
       "      <td>NaN</td>\n",
       "    </tr>\n",
       "    <tr>\n",
       "      <th>3</th>\n",
       "      <td>21392</td>\n",
       "      <td>23</td>\n",
       "      <td>c8741ce15ceac2a4</td>\n",
       "      <td>1.0</td>\n",
       "      <td>23:53:49</td>\n",
       "      <td>102</td>\n",
       "      <td>7.0.9</td>\n",
       "      <td>630a1adff2a87007</td>\n",
       "      <td>MI 5X</td>\n",
       "      <td>d0c285513b785609</td>\n",
       "      <td>a7e79e3c2c85c8c7</td>\n",
       "      <td>NaN</td>\n",
       "      <td>NaN</td>\n",
       "      <td>04a2d6c090518faa</td>\n",
       "      <td>c52efc665f0af581</td>\n",
       "      <td>NaN</td>\n",
       "      <td>4ff1553b1c96360e</td>\n",
       "      <td>wm4v</td>\n",
       "      <td>fdb5e20f6a6f2cd7</td>\n",
       "      <td>NaN</td>\n",
       "    </tr>\n",
       "    <tr>\n",
       "      <th>4</th>\n",
       "      <td>18599</td>\n",
       "      <td>26</td>\n",
       "      <td>acfaded7e04e7ba0</td>\n",
       "      <td>1.0</td>\n",
       "      <td>11:11:15</td>\n",
       "      <td>102</td>\n",
       "      <td>7.0.0</td>\n",
       "      <td>8399be6b80847240</td>\n",
       "      <td>NaN</td>\n",
       "      <td>27efd832595503f6</td>\n",
       "      <td>b6457e2264266257</td>\n",
       "      <td>NaN</td>\n",
       "      <td>NaN</td>\n",
       "      <td>1ab9dc3eae102aa6</td>\n",
       "      <td>0fe293bea342665a</td>\n",
       "      <td>NaN</td>\n",
       "      <td>NaN</td>\n",
       "      <td>NaN</td>\n",
       "      <td>f5009e2c6c13c80c</td>\n",
       "      <td>NaN</td>\n",
       "    </tr>\n",
       "  </tbody>\n",
       "</table>\n",
       "</div>"
      ],
      "text/plain": [
       "     UID  op_day           op_mode  op_success   op_time  op_os op_version  \\\n",
       "0  10035      30  c8741ce15ceac2a4         1.0  17:51:50    102      7.0.9   \n",
       "1  16264      16  20a91b45ef8f8221         1.0  08:36:00    200        NaN   \n",
       "2  13162       8  b668e42707ee9c7b         0.0  18:09:57    102      7.0.5   \n",
       "3  21392      23  c8741ce15ceac2a4         1.0  23:53:49    102      7.0.9   \n",
       "4  18599      26  acfaded7e04e7ba0         1.0  11:11:15    102      7.0.0   \n",
       "\n",
       "         op_device1 op_device2   op_device_code1   op_device_code2  \\\n",
       "0  49dd36968dbfadda   OPPO R11  ecb58082e0e9b8e2  00fa2e4ba95605ef   \n",
       "1               NaN        NaN               NaN               NaN   \n",
       "2  630a1adff2a87007   MI MAX 2  1da225cb679a37eb  f18538156b8f9b57   \n",
       "3  630a1adff2a87007      MI 5X  d0c285513b785609  a7e79e3c2c85c8c7   \n",
       "4  8399be6b80847240        NaN  27efd832595503f6  b6457e2264266257   \n",
       "\n",
       "  op_device_code3           op_mac1           op_mac2            op_ip1  \\\n",
       "0             NaN               NaN  a8dc52f65085212e  55dd8936655c86f6   \n",
       "1             NaN               NaN               NaN               NaN   \n",
       "2             NaN  a8dc52f65085212e               NaN  2147d925e7a8ba3c   \n",
       "3             NaN               NaN  04a2d6c090518faa  c52efc665f0af581   \n",
       "4             NaN               NaN  1ab9dc3eae102aa6  0fe293bea342665a   \n",
       "\n",
       "             op_ip2           op_wifi op_geo_code        op_ip1_sub  \\\n",
       "0               NaN               NaN        wskx  e58e48fb9215116e   \n",
       "1  fc7fc47d6c93f554               NaN         NaN               NaN   \n",
       "2               NaN               NaN         NaN  3591678eca3f7a23   \n",
       "3               NaN  4ff1553b1c96360e        wm4v  fdb5e20f6a6f2cd7   \n",
       "4               NaN               NaN         NaN  f5009e2c6c13c80c   \n",
       "\n",
       "         op_ip2_sub  \n",
       "0               NaN  \n",
       "1  3502c553ea2ac187  \n",
       "2               NaN  \n",
       "3               NaN  \n",
       "4               NaN  "
      ]
     },
     "execution_count": 13,
     "metadata": {},
     "output_type": "execute_result"
    }
   ],
   "source": [
    "df_train_op.rename(columns=lambda col:'op_'+col if col!='UID' else col,inplace=True)\n",
    "df_train_op.head()"
   ]
  },
  {
   "cell_type": "markdown",
   "metadata": {},
   "source": [
    "### UID统计\n",
    "\n",
    "这部分主要来看看交易表和操作表的UID，是否都在标签表中的UID？如果不是，需要将那些不在标签表中存在的UID相关数据去除"
   ]
  },
  {
   "cell_type": "code",
   "execution_count": 14,
   "metadata": {
    "scrolled": false
   },
   "outputs": [
    {
     "name": "stdout",
     "output_type": "stream",
     "text": [
      "(13013,) (11979,) (13422,)\n"
     ]
    }
   ],
   "source": [
    "df_trans_uids=df_train_trans['UID']\n",
    "df_op_uids=df_train_op['UID']\n",
    "df_tag_uids=df_train_tag['UID'] # 标签中的UID都是唯一的\n",
    "print(df_trans_uids.drop_duplicates().shape,df_op_uids.drop_duplicates().shape,df_tag_uids.shape)"
   ]
  },
  {
   "cell_type": "markdown",
   "metadata": {},
   "source": [
    "从上面输出，我们发现有些用户不存在交易和操作记录，有的用户存在交易记录而不存在操作记录"
   ]
  },
  {
   "cell_type": "markdown",
   "metadata": {},
   "source": [
    "### “羊毛党”交易和操作统计"
   ]
  },
  {
   "cell_type": "code",
   "execution_count": 15,
   "metadata": {},
   "outputs": [
    {
     "data": {
      "text/plain": [
       "1528"
      ]
     },
     "execution_count": 15,
     "metadata": {},
     "output_type": "execute_result"
    }
   ],
   "source": [
    "black_uids=df_train_tag[df_train_tag['Tag']==1]['UID']\n",
    "len(black_uids)"
   ]
  },
  {
   "cell_type": "code",
   "execution_count": 48,
   "metadata": {},
   "outputs": [
    {
     "name": "stdout",
     "output_type": "stream",
     "text": [
      "(1262,)\n",
      "13933    1124\n",
      "18105     353\n",
      "20645     285\n",
      "11087     254\n",
      "20603     126\n",
      "12671     101\n",
      "16337      83\n",
      "10192      83\n",
      "16748      82\n",
      "16916      81\n",
      "Name: UID, dtype: int64\n"
     ]
    },
    {
     "data": {
      "image/png": "[encoded data removed]",
      "text/plain": [
       "<Figure size 432x288 with 1 Axes>"
      ]
     },
     "metadata": {},
     "output_type": "display_data"
    }
   ],
   "source": [
    "# “羊毛党” 交易统计\n",
    "black_trans=df_train_trans[df_train_trans['UID'].isin(black_uids)]\n",
    "black_trans_count=black_trans['UID'].value_counts()\n",
    "print(black_trans_count.shape)\n",
    "print(black_trans_count[:10])\n",
    "black_trans_count[:10].plot(kind='bar')\n",
    "plt.show()"
   ]
  },
  {
   "cell_type": "markdown",
   "metadata": {},
   "source": [
    "我们可以看出羊毛党大部分存交易记录，羊毛党一共有1528个，剩下1528-1262=266个不存在交易记录"
   ]
  },
  {
   "cell_type": "code",
   "execution_count": 47,
   "metadata": {},
   "outputs": [
    {
     "name": "stdout",
     "output_type": "stream",
     "text": [
      "(1526,)\n",
      "13933    1299\n",
      "18105     567\n",
      "18720     316\n",
      "13003     266\n",
      "16337     244\n",
      "20410     240\n",
      "18320     234\n",
      "23223     231\n",
      "10995     221\n",
      "12403     218\n",
      "Name: UID, dtype: int64\n"
     ]
    },
    {
     "data": {
      "image/png": "[encoded data removed]",
      "text/plain": [
       "<Figure size 432x288 with 1 Axes>"
      ]
     },
     "metadata": {},
     "output_type": "display_data"
    }
   ],
   "source": [
    "# “羊毛党” 操作统计\n",
    "black_op=df_train_op[df_train_op['UID'].isin(black_uids)]\n",
    "black_op_count=black_op['UID'].value_counts()\n",
    "print(black_op_count.shape)\n",
    "print(black_op_count[:10])\n",
    "black_op_count[:10].plot(kind='bar')\n",
    "plt.show()"
   ]
  },
  {
   "cell_type": "markdown",
   "metadata": {},
   "source": [
    "我们可以看出羊毛党大部分存操作记录，羊毛党一共有1528个，仅有1528-1525=2个不存在操作记录"
   ]
  },
  {
   "cell_type": "markdown",
   "metadata": {},
   "source": [
    "### “白用户”交易和操作统计\n",
    "白用户即指不存在交易风险的用户"
   ]
  },
  {
   "cell_type": "code",
   "execution_count": 49,
   "metadata": {},
   "outputs": [
    {
     "name": "stdout",
     "output_type": "stream",
     "text": [
      "11894\n",
      "(11751,)\n",
      "17520    4030\n",
      "21463    1126\n",
      "17490     613\n",
      "12340     497\n",
      "13713     485\n",
      "18686     407\n",
      "13123     394\n",
      "20480     354\n",
      "22976     324\n",
      "13976     315\n",
      "Name: UID, dtype: int64\n"
     ]
    },
    {
     "data": {
      "image/png": "[encoded data removed]",
      "text/plain": [
       "<Figure size 432x288 with 1 Axes>"
      ]
     },
     "metadata": {},
     "output_type": "display_data"
    }
   ],
   "source": [
    "white_uids=df_train_tag[df_train_tag['Tag']==0]['UID']\n",
    "print(len(white_uids))\n",
    "# “羊毛党” 交易统计\n",
    "white_trans=df_train_trans[df_train_trans['UID'].isin(white_uids)]\n",
    "white_trans_count=white_trans['UID'].value_counts()\n",
    "print(white_trans_count.shape)\n",
    "print(white_trans_count[:10])\n",
    "white_trans_count[:10].plot(kind='bar')\n",
    "plt.show()"
   ]
  },
  {
   "cell_type": "code",
   "execution_count": 50,
   "metadata": {},
   "outputs": [
    {
     "name": "stdout",
     "output_type": "stream",
     "text": [
      "(10453,)\n",
      "13976    1190\n",
      "13716     950\n",
      "22187     659\n",
      "12353     658\n",
      "20480     624\n",
      "14138     614\n",
      "17025     535\n",
      "20212     496\n",
      "17490     480\n",
      "10157     473\n",
      "Name: UID, dtype: int64\n"
     ]
    },
    {
     "data": {
      "image/png": "[encoded data removed]",
      "text/plain": [
       "<Figure size 432x288 with 1 Axes>"
      ]
     },
     "metadata": {},
     "output_type": "display_data"
    }
   ],
   "source": [
    "# “羊毛党” op统计\n",
    "white_op=df_train_op[df_train_op['UID'].isin(white_uids)]\n",
    "white_op_count=white_op['UID'].value_counts()\n",
    "print(white_op_count.shape)\n",
    "print(white_op_count[:10])\n",
    "white_op_count[:10].plot(kind='bar')\n",
    "plt.show()"
   ]
  },
  {
   "cell_type": "markdown",
   "metadata": {},
   "source": [
    "**从羊毛党和白用户之间的交易和操作记录数量来看，羊毛党的记录要明显少于白用户的。这也符合常规，一般羊毛党注册套现之后，操作记录会减少，交易更不必说，其中羊毛党中有266个存在不交易记录也证明了这一点。那么，我们将交易和操作记录数量名别作为特征，如果不存在，记为0**"
   ]
  },
  {
   "cell_type": "markdown",
   "metadata": {},
   "source": [
    "## 交易数据分析\n",
    "\n",
    "关于羊毛党和白用户的统计"
   ]
  },
  {
   "cell_type": "markdown",
   "metadata": {},
   "source": [
    "- 平台类型"
   ]
  },
  {
   "cell_type": "code",
   "execution_count": 51,
   "metadata": {},
   "outputs": [
    {
     "data": {
      "text/plain": [
       "102    15428\n",
       "140     5698\n",
       "106        2\n",
       "Name: trans_channel, dtype: int64"
      ]
     },
     "execution_count": 51,
     "metadata": {},
     "output_type": "execute_result"
    }
   ],
   "source": [
    "black_trans['trans_channel'].value_counts()"
   ]
  },
  {
   "cell_type": "code",
   "execution_count": 52,
   "metadata": {},
   "outputs": [
    {
     "data": {
      "text/plain": [
       "140    78890\n",
       "102    60752\n",
       "119     1056\n",
       "106      139\n",
       "Name: trans_channel, dtype: int64"
      ]
     },
     "execution_count": 52,
     "metadata": {},
     "output_type": "execute_result"
    }
   ],
   "source": [
    "white_trans['trans_channel'].value_counts()"
   ]
  },
  {
   "cell_type": "markdown",
   "metadata": {},
   "source": [
    "- 交易天数"
   ]
  },
  {
   "cell_type": "code",
   "execution_count": 55,
   "metadata": {},
   "outputs": [
    {
     "data": {
      "text/plain": [
       "27    3272\n",
       "26    2071\n",
       "28    2025\n",
       "25    1623\n",
       "29    1584\n",
       "30    1029\n",
       "22    1027\n",
       "8      963\n",
       "2      903\n",
       "15     796\n",
       "1      754\n",
       "12     662\n",
       "21     516\n",
       "14     412\n",
       "18     384\n",
       "16     349\n",
       "20     337\n",
       "9      309\n",
       "19     292\n",
       "17     245\n",
       "6      243\n",
       "13     222\n",
       "5      213\n",
       "11     188\n",
       "7      184\n",
       "24     156\n",
       "23     149\n",
       "4      115\n",
       "10      68\n",
       "3       37\n",
       "Name: trans_day, dtype: int64"
      ]
     },
     "execution_count": 55,
     "metadata": {},
     "output_type": "execute_result"
    }
   ],
   "source": [
    "black_trans['trans_day'].value_counts()"
   ]
  },
  {
   "cell_type": "code",
   "execution_count": 56,
   "metadata": {},
   "outputs": [
    {
     "data": {
      "text/plain": [
       "22    9915\n",
       "15    9649\n",
       "8     9201\n",
       "29    8772\n",
       "1     8255\n",
       "16    7550\n",
       "30    7320\n",
       "25    7166\n",
       "9     5660\n",
       "2     5532\n",
       "23    4848\n",
       "27    4559\n",
       "28    3974\n",
       "26    3873\n",
       "5     3559\n",
       "20    3549\n",
       "17    3539\n",
       "19    3452\n",
       "18    3366\n",
       "21    2873\n",
       "24    2653\n",
       "7     2561\n",
       "12    2466\n",
       "13    2456\n",
       "6     2454\n",
       "14    2448\n",
       "3     2417\n",
       "10    2317\n",
       "11    2305\n",
       "4     2148\n",
       "Name: trans_day, dtype: int64"
      ]
     },
     "execution_count": 56,
     "metadata": {},
     "output_type": "execute_result"
    }
   ],
   "source": [
    "white_trans['trans_day'].value_counts()"
   ]
  },
  {
   "cell_type": "markdown",
   "metadata": {},
   "source": [
    "- 交易金额"
   ]
  },
  {
   "cell_type": "code",
   "execution_count": 61,
   "metadata": {},
   "outputs": [
    {
     "data": {
      "text/plain": [
       "102      12931\n",
       "2818      2415\n",
       "235        384\n",
       "1459       342\n",
       "5536       273\n",
       "3090       189\n",
       "22661      184\n",
       "10973      164\n",
       "25380      137\n",
       "105        131\n",
       "113        127\n",
       "50660      112\n",
       "108        111\n",
       "371         87\n",
       "3361        87\n",
       "110         81\n",
       "4177        73\n",
       "26739       72\n",
       "3633        68\n",
       "2954        64\n",
       "Name: trans_trans_amt, dtype: int64"
      ]
     },
     "execution_count": 61,
     "metadata": {},
     "output_type": "execute_result"
    }
   ],
   "source": [
    "black_trans['trans_trans_amt'].value_counts()[:20]"
   ]
  },
  {
   "cell_type": "code",
   "execution_count": 62,
   "metadata": {},
   "outputs": [
    {
     "data": {
      "text/plain": [
       "2818      21866\n",
       "1459      19904\n",
       "5536       5727\n",
       "102        4096\n",
       "371        3512\n",
       "643        2437\n",
       "8254       2398\n",
       "27282      2345\n",
       "13691      2101\n",
       "1730       1852\n",
       "915        1778\n",
       "4177       1739\n",
       "136014     1645\n",
       "105        1568\n",
       "108        1417\n",
       "127        1308\n",
       "110        1194\n",
       "54465      1160\n",
       "113        1072\n",
       "3361       1028\n",
       "Name: trans_trans_amt, dtype: int64"
      ]
     },
     "execution_count": 62,
     "metadata": {},
     "output_type": "execute_result"
    }
   ],
   "source": [
    "white_trans['trans_trans_amt'].value_counts()[:20]"
   ]
  },
  {
   "cell_type": "markdown",
   "metadata": {},
   "source": [
    "- 交易类型"
   ]
  },
  {
   "cell_type": "code",
   "execution_count": 63,
   "metadata": {},
   "outputs": [
    {
     "data": {
      "text/plain": [
       "6d55c54c8b1056fb    13061\n",
       "c2f2023d279665b2     5683\n",
       "61bfb66c928f36ac      934\n",
       "ced62357ad496957      687\n",
       "e0d7b8768da99dd4      461\n",
       "26bcf43a19df14c8      256\n",
       "9d7dd7b80e806024       23\n",
       "a19e7a8951e54c06       20\n",
       "d9c417304a5ae70c        2\n",
       "fd4d2d1006a95637        1\n",
       "Name: trans_trans_type1, dtype: int64"
      ]
     },
     "execution_count": 63,
     "metadata": {},
     "output_type": "execute_result"
    }
   ],
   "source": [
    "black_trans['trans_trans_type1'].value_counts()"
   ]
  },
  {
   "cell_type": "code",
   "execution_count": 64,
   "metadata": {},
   "outputs": [
    {
     "data": {
      "text/plain": [
       "c2f2023d279665b2    75753\n",
       "6d55c54c8b1056fb    27085\n",
       "26bcf43a19df14c8    11092\n",
       "61bfb66c928f36ac    11052\n",
       "e0d7b8768da99dd4     8090\n",
       "d9c417304a5ae70c     2633\n",
       "9d7dd7b80e806024     2096\n",
       "a19e7a8951e54c06     1013\n",
       "eb8d10591677bbe1      633\n",
       "4adc3de71fe1a83c      447\n",
       "85bced5214d33ad2      423\n",
       "ced62357ad496957      237\n",
       "e903cf2a79b83d37      161\n",
       "fd4d2d1006a95637      107\n",
       "3f469aa3836e71cb       15\n",
       "Name: trans_trans_type1, dtype: int64"
      ]
     },
     "execution_count": 64,
     "metadata": {},
     "output_type": "execute_result"
    }
   ],
   "source": [
    "white_trans['trans_trans_type1'].value_counts()"
   ]
  },
  {
   "cell_type": "markdown",
   "metadata": {},
   "source": [
    "- 交易剩余余额"
   ]
  },
  {
   "cell_type": "code",
   "execution_count": 66,
   "metadata": {},
   "outputs": [
    {
     "data": {
      "text/plain": [
       "100    8127\n",
       "211     299\n",
       "208     299\n",
       "206     278\n",
       "214     277\n",
       "219     273\n",
       "216     264\n",
       "222     252\n",
       "200     249\n",
       "203     248\n",
       "197     229\n",
       "244     216\n",
       "225     204\n",
       "195     202\n",
       "227     187\n",
       "241     185\n",
       "246     182\n",
       "233     174\n",
       "230     173\n",
       "192     172\n",
       "Name: trans_bal, dtype: int64"
      ]
     },
     "execution_count": 66,
     "metadata": {},
     "output_type": "execute_result"
    }
   ],
   "source": [
    "black_trans['trans_bal'].value_counts()[:20]"
   ]
  },
  {
   "cell_type": "code",
   "execution_count": 67,
   "metadata": {},
   "outputs": [
    {
     "data": {
      "text/plain": [
       "100      117155\n",
       "1459        150\n",
       "2818        126\n",
       "4177        103\n",
       "344          65\n",
       "5536         55\n",
       "108          54\n",
       "1187         41\n",
       "140          36\n",
       "8254         34\n",
       "10973        33\n",
       "371          33\n",
       "116          30\n",
       "13691        29\n",
       "6895         28\n",
       "127          28\n",
       "110          27\n",
       "2546         27\n",
       "167          26\n",
       "643          25\n",
       "Name: trans_bal, dtype: int64"
      ]
     },
     "execution_count": 67,
     "metadata": {},
     "output_type": "execute_result"
    }
   ],
   "source": [
    "white_trans['trans_bal'].value_counts()[:20]"
   ]
  },
  {
   "cell_type": "markdown",
   "metadata": {},
   "source": [
    "- 交易金源类型"
   ]
  },
  {
   "cell_type": "code",
   "execution_count": 70,
   "metadata": {},
   "outputs": [
    {
     "data": {
      "text/plain": [
       "9fefed0a981dcb7a    11855\n",
       "c4ec9622cf5c6e55     1355\n",
       "cf6e3a074407c379     1241\n",
       "a2aa73cdb6621133      877\n",
       "9a8ee16bde15e38a      434\n",
       "e98d66cbb6c099b5      366\n",
       "12e06cb81b0fcf2a       69\n",
       "22502c4fdab5857d       61\n",
       "fbf6bf3c8927414c       57\n",
       "e2a24888724d3e89       34\n",
       "e7bed445b4f874ac       31\n",
       "13292ee4e696c589       31\n",
       "7bbedaeb92ef822e       30\n",
       "1ca672c7cb34af43       30\n",
       "e86309711bd84312       19\n",
       "021826a651647c36       10\n",
       "6d62c8c3c4f9cc5f       10\n",
       "dea7e09a621abba3        7\n",
       "01d2df370ace8ce4        7\n",
       "1f51c35a27115cba        6\n",
       "Name: trans_amt_src2, dtype: int64"
      ]
     },
     "execution_count": 70,
     "metadata": {},
     "output_type": "execute_result"
    }
   ],
   "source": [
    "black_trans['trans_amt_src2'].value_counts()[:20]"
   ]
  },
  {
   "cell_type": "code",
   "execution_count": 71,
   "metadata": {},
   "outputs": [
    {
     "data": {
      "text/plain": [
       "9fefed0a981dcb7a    21187\n",
       "cf6e3a074407c379    17744\n",
       "9a8ee16bde15e38a    14650\n",
       "a2aa73cdb6621133     8318\n",
       "1ca672c7cb34af43     3419\n",
       "e98d66cbb6c099b5     2965\n",
       "e2a24888724d3e89     2753\n",
       "12e06cb81b0fcf2a     2584\n",
       "8f7eb30a47b8af8c     2148\n",
       "e7bed445b4f874ac     2145\n",
       "8d2ff85b6fd5dc78     1895\n",
       "d46a2a9577fb52c3     1258\n",
       "7bbedaeb92ef822e     1058\n",
       "4a4fdbd7ae5655cd      993\n",
       "fbf6bf3c8927414c      711\n",
       "c4ec9622cf5c6e55      705\n",
       "58d462f1d9cb53db      550\n",
       "6ff95b0f27cad429      447\n",
       "00aba2124ca7287b      443\n",
       "021826a651647c36      408\n",
       "Name: trans_amt_src2, dtype: int64"
      ]
     },
     "execution_count": 71,
     "metadata": {},
     "output_type": "execute_result"
    }
   ],
   "source": [
    "white_trans['trans_amt_src2'].value_counts()[:20]"
   ]
  },
  {
   "cell_type": "markdown",
   "metadata": {},
   "source": [
    "- 交易类型2"
   ]
  },
  {
   "cell_type": "code",
   "execution_count": 72,
   "metadata": {},
   "outputs": [
    {
     "data": {
      "text/plain": [
       "102.0    9799\n",
       "104.0    6198\n",
       "105.0    4805\n",
       "103.0      44\n",
       "Name: trans_trans_type2, dtype: int64"
      ]
     },
     "execution_count": 72,
     "metadata": {},
     "output_type": "execute_result"
    }
   ],
   "source": [
    "black_trans['trans_trans_type2'].value_counts()"
   ]
  },
  {
   "cell_type": "code",
   "execution_count": 73,
   "metadata": {},
   "outputs": [
    {
     "data": {
      "text/plain": [
       "105.0    63437\n",
       "102.0    52150\n",
       "104.0    11748\n",
       "103.0     2832\n",
       "Name: trans_trans_type2, dtype: int64"
      ]
     },
     "execution_count": 73,
     "metadata": {},
     "output_type": "execute_result"
    }
   ],
   "source": [
    "white_trans['trans_trans_type2'].value_counts()"
   ]
  },
  {
   "cell_type": "markdown",
   "metadata": {},
   "source": [
    "- 地理位置"
   ]
  },
  {
   "cell_type": "code",
   "execution_count": 76,
   "metadata": {},
   "outputs": [
    {
     "data": {
      "text/plain": [
       "w7w3    1123\n",
       "webw     324\n",
       "wtq3     277\n",
       "weby     209\n",
       "wtw4     157\n",
       "ws07     109\n",
       "ws0e     109\n",
       "wtvk      85\n",
       "wtcx      61\n",
       "ww5h      58\n",
       "wk3n      57\n",
       "ws0s      47\n",
       "ws4u      44\n",
       "wwcu      42\n",
       "ws19      38\n",
       "wqj6      38\n",
       "wqj7      37\n",
       "wtvm      37\n",
       "wt7j      31\n",
       "ww5b      30\n",
       "Name: trans_geo_code, dtype: int64"
      ]
     },
     "execution_count": 76,
     "metadata": {},
     "output_type": "execute_result"
    }
   ],
   "source": [
    "black_trans['trans_geo_code'].value_counts()[:20]"
   ]
  },
  {
   "cell_type": "code",
   "execution_count": 77,
   "metadata": {},
   "outputs": [
    {
     "data": {
      "text/plain": [
       "wsbq    1101\n",
       "ws0e     997\n",
       "ws06     888\n",
       "wme1     788\n",
       "wmr8     553\n",
       "wxrt     551\n",
       "ws7n     549\n",
       "wsb1     543\n",
       "wss8     543\n",
       "wm4x     538\n",
       "wmd6     531\n",
       "wm4u     523\n",
       "wxrv     493\n",
       "wts4     468\n",
       "wtsk     468\n",
       "tzy4     439\n",
       "wme9     422\n",
       "wt02     419\n",
       "ws4y     408\n",
       "wt59     403\n",
       "Name: trans_geo_code, dtype: int64"
      ]
     },
     "execution_count": 77,
     "metadata": {},
     "output_type": "execute_result"
    }
   ],
   "source": [
    "white_trans['trans_geo_code'].value_counts()[:20]"
   ]
  },
  {
   "cell_type": "markdown",
   "metadata": {},
   "source": [
    "## 操作数据统计"
   ]
  },
  {
   "cell_type": "markdown",
   "metadata": {},
   "source": [
    "- 操作类型"
   ]
  },
  {
   "cell_type": "code",
   "execution_count": 78,
   "metadata": {},
   "outputs": [
    {
     "data": {
      "text/plain": [
       "acfaded7e04e7ba0    15773\n",
       "79f8b86938180c3c    14960\n",
       "d25caee90b27fa9b    12220\n",
       "c8741ce15ceac2a4    11672\n",
       "963bd8a75ff9ab37     1157\n",
       "b501fa4fc58206b9     1028\n",
       "072eee5c88d380df      836\n",
       "2f3e878175e34d9c      774\n",
       "3b02bcd4b685d7a8      546\n",
       "00094ae2a1d62504      543\n",
       "20a91b45ef8f8221      538\n",
       "bf79b3647c0878eb      478\n",
       "1c341176507fbd9b      458\n",
       "479617cd802ed152      379\n",
       "270ca3ca8f0d1126      290\n",
       "a698c1862f390021      249\n",
       "08017d2cb28c2348      233\n",
       "ac63e881c4e19402      164\n",
       "8c7ce5ff939e66d1      133\n",
       "e1d2fad8ffdc66b3      128\n",
       "Name: op_mode, dtype: int64"
      ]
     },
     "execution_count": 78,
     "metadata": {},
     "output_type": "execute_result"
    }
   ],
   "source": [
    "black_op['op_mode'].value_counts()[:20]"
   ]
  },
  {
   "cell_type": "code",
   "execution_count": 79,
   "metadata": {},
   "outputs": [
    {
     "data": {
      "text/plain": [
       "c8741ce15ceac2a4    209604\n",
       "d25caee90b27fa9b     40141\n",
       "79f8b86938180c3c     13600\n",
       "b501fa4fc58206b9     12098\n",
       "acfaded7e04e7ba0      9215\n",
       "3b02bcd4b685d7a8      7284\n",
       "00094ae2a1d62504      6973\n",
       "072eee5c88d380df      6899\n",
       "20a91b45ef8f8221      6177\n",
       "cd75f033b0488ace      5844\n",
       "e1d2fad8ffdc66b3      4536\n",
       "963bd8a75ff9ab37      4279\n",
       "2f3e878175e34d9c      3750\n",
       "cca82161b59127c1      3607\n",
       "6b2aa6745680f08a      3387\n",
       "1c341176507fbd9b      2770\n",
       "d21cae2b73884a8d      2534\n",
       "479617cd802ed152      2329\n",
       "bf79b3647c0878eb      1932\n",
       "08017d2cb28c2348      1161\n",
       "Name: op_mode, dtype: int64"
      ]
     },
     "execution_count": 79,
     "metadata": {},
     "output_type": "execute_result"
    }
   ],
   "source": [
    "white_op['op_mode'].value_counts()[:20]"
   ]
  },
  {
   "cell_type": "markdown",
   "metadata": {},
   "source": [
    "- 操作状态"
   ]
  },
  {
   "cell_type": "code",
   "execution_count": 83,
   "metadata": {},
   "outputs": [
    {
     "data": {
      "text/plain": [
       "1.0    46991\n",
       "0.0     1436\n",
       "Name: op_success, dtype: int64"
      ]
     },
     "execution_count": 83,
     "metadata": {},
     "output_type": "execute_result"
    }
   ],
   "source": [
    "black_op['op_success'].value_counts()"
   ]
  },
  {
   "cell_type": "code",
   "execution_count": 84,
   "metadata": {},
   "outputs": [
    {
     "data": {
      "text/plain": [
       "1.0    326884\n",
       "0.0     15939\n",
       "Name: op_success, dtype: int64"
      ]
     },
     "execution_count": 84,
     "metadata": {},
     "output_type": "execute_result"
    }
   ],
   "source": [
    "white_op['op_success'].value_counts()"
   ]
  },
  {
   "cell_type": "markdown",
   "metadata": {},
   "source": [
    "- 操作系统"
   ]
  },
  {
   "cell_type": "code",
   "execution_count": 85,
   "metadata": {},
   "outputs": [
    {
     "data": {
      "text/plain": [
       "102    30253\n",
       "200    17643\n",
       "103    15189\n",
       "101      380\n",
       "104       52\n",
       "105        2\n",
       "107        1\n",
       "Name: op_os, dtype: int64"
      ]
     },
     "execution_count": 85,
     "metadata": {},
     "output_type": "execute_result"
    }
   ],
   "source": [
    "black_op['op_os'].value_counts()"
   ]
  },
  {
   "cell_type": "code",
   "execution_count": 86,
   "metadata": {},
   "outputs": [
    {
     "data": {
      "text/plain": [
       "102    249887\n",
       "200     61178\n",
       "103     47564\n",
       "101      1688\n",
       "104       348\n",
       "107       296\n",
       "Name: op_os, dtype: int64"
      ]
     },
     "execution_count": 86,
     "metadata": {},
     "output_type": "execute_result"
    }
   ],
   "source": [
    "white_op['op_os'].value_counts()"
   ]
  },
  {
   "cell_type": "markdown",
   "metadata": {},
   "source": [
    "## 特征工程"
   ]
  },
  {
   "cell_type": "markdown",
   "metadata": {},
   "source": [
    "### 交易和操作数量"
   ]
  },
  {
   "cell_type": "code",
   "execution_count": 119,
   "metadata": {},
   "outputs": [],
   "source": [
    "trans_cnt_dict=dict(df_trans_uids.value_counts())\n",
    "trans_cnt=[trans_cnt_dict[uid] if uid in trans_cnt_dict else 0 for uid in df_tag_uids ]\n",
    "df_train_tag['trans_cnt']=trans_cnt"
   ]
  },
  {
   "cell_type": "code",
   "execution_count": 125,
   "metadata": {},
   "outputs": [],
   "source": [
    "op_cnt_dict=dict(df_op_uids.value_counts())\n",
    "op_cnt=[op_cnt_dict[uid] if uid in op_cnt_dict else 0 for uid in df_tag_uids ]\n",
    "df_train_tag['op_cnt']=op_cnt"
   ]
  },
  {
   "cell_type": "code",
   "execution_count": 126,
   "metadata": {},
   "outputs": [
    {
     "data": {
      "text/html": [
       "<div>\n",
       "<style scoped>\n",
       "    .dataframe tbody tr th:only-of-type {\n",
       "        vertical-align: middle;\n",
       "    }\n",
       "\n",
       "    .dataframe tbody tr th {\n",
       "        vertical-align: top;\n",
       "    }\n",
       "\n",
       "    .dataframe thead th {\n",
       "        text-align: right;\n",
       "    }\n",
       "</style>\n",
       "<table border=\"1\" class=\"dataframe\">\n",
       "  <thead>\n",
       "    <tr style=\"text-align: right;\">\n",
       "      <th></th>\n",
       "      <th>UID</th>\n",
       "      <th>Tag</th>\n",
       "      <th>trans_cnt</th>\n",
       "      <th>op_cnt</th>\n",
       "    </tr>\n",
       "  </thead>\n",
       "  <tbody>\n",
       "    <tr>\n",
       "      <th>0</th>\n",
       "      <td>10000</td>\n",
       "      <td>1</td>\n",
       "      <td>2</td>\n",
       "      <td>9</td>\n",
       "    </tr>\n",
       "    <tr>\n",
       "      <th>1</th>\n",
       "      <td>10001</td>\n",
       "      <td>0</td>\n",
       "      <td>18</td>\n",
       "      <td>67</td>\n",
       "    </tr>\n",
       "    <tr>\n",
       "      <th>2</th>\n",
       "      <td>10002</td>\n",
       "      <td>0</td>\n",
       "      <td>3</td>\n",
       "      <td>11</td>\n",
       "    </tr>\n",
       "    <tr>\n",
       "      <th>3</th>\n",
       "      <td>10003</td>\n",
       "      <td>0</td>\n",
       "      <td>4</td>\n",
       "      <td>15</td>\n",
       "    </tr>\n",
       "    <tr>\n",
       "      <th>4</th>\n",
       "      <td>10004</td>\n",
       "      <td>0</td>\n",
       "      <td>7</td>\n",
       "      <td>34</td>\n",
       "    </tr>\n",
       "    <tr>\n",
       "      <th>5</th>\n",
       "      <td>10005</td>\n",
       "      <td>0</td>\n",
       "      <td>1</td>\n",
       "      <td>0</td>\n",
       "    </tr>\n",
       "    <tr>\n",
       "      <th>6</th>\n",
       "      <td>10006</td>\n",
       "      <td>0</td>\n",
       "      <td>7</td>\n",
       "      <td>7</td>\n",
       "    </tr>\n",
       "    <tr>\n",
       "      <th>7</th>\n",
       "      <td>10007</td>\n",
       "      <td>0</td>\n",
       "      <td>4</td>\n",
       "      <td>13</td>\n",
       "    </tr>\n",
       "    <tr>\n",
       "      <th>8</th>\n",
       "      <td>10008</td>\n",
       "      <td>0</td>\n",
       "      <td>21</td>\n",
       "      <td>30</td>\n",
       "    </tr>\n",
       "    <tr>\n",
       "      <th>9</th>\n",
       "      <td>10009</td>\n",
       "      <td>0</td>\n",
       "      <td>7</td>\n",
       "      <td>12</td>\n",
       "    </tr>\n",
       "    <tr>\n",
       "      <th>10</th>\n",
       "      <td>10010</td>\n",
       "      <td>0</td>\n",
       "      <td>4</td>\n",
       "      <td>8</td>\n",
       "    </tr>\n",
       "    <tr>\n",
       "      <th>11</th>\n",
       "      <td>10011</td>\n",
       "      <td>0</td>\n",
       "      <td>2</td>\n",
       "      <td>8</td>\n",
       "    </tr>\n",
       "    <tr>\n",
       "      <th>12</th>\n",
       "      <td>10012</td>\n",
       "      <td>0</td>\n",
       "      <td>9</td>\n",
       "      <td>64</td>\n",
       "    </tr>\n",
       "    <tr>\n",
       "      <th>13</th>\n",
       "      <td>10013</td>\n",
       "      <td>0</td>\n",
       "      <td>2</td>\n",
       "      <td>0</td>\n",
       "    </tr>\n",
       "    <tr>\n",
       "      <th>14</th>\n",
       "      <td>10014</td>\n",
       "      <td>0</td>\n",
       "      <td>12</td>\n",
       "      <td>30</td>\n",
       "    </tr>\n",
       "    <tr>\n",
       "      <th>15</th>\n",
       "      <td>10015</td>\n",
       "      <td>0</td>\n",
       "      <td>2</td>\n",
       "      <td>0</td>\n",
       "    </tr>\n",
       "    <tr>\n",
       "      <th>16</th>\n",
       "      <td>10016</td>\n",
       "      <td>0</td>\n",
       "      <td>15</td>\n",
       "      <td>27</td>\n",
       "    </tr>\n",
       "    <tr>\n",
       "      <th>17</th>\n",
       "      <td>10017</td>\n",
       "      <td>0</td>\n",
       "      <td>16</td>\n",
       "      <td>39</td>\n",
       "    </tr>\n",
       "    <tr>\n",
       "      <th>18</th>\n",
       "      <td>10018</td>\n",
       "      <td>0</td>\n",
       "      <td>2</td>\n",
       "      <td>23</td>\n",
       "    </tr>\n",
       "    <tr>\n",
       "      <th>19</th>\n",
       "      <td>10019</td>\n",
       "      <td>1</td>\n",
       "      <td>5</td>\n",
       "      <td>10</td>\n",
       "    </tr>\n",
       "    <tr>\n",
       "      <th>20</th>\n",
       "      <td>10020</td>\n",
       "      <td>0</td>\n",
       "      <td>12</td>\n",
       "      <td>18</td>\n",
       "    </tr>\n",
       "    <tr>\n",
       "      <th>21</th>\n",
       "      <td>10021</td>\n",
       "      <td>1</td>\n",
       "      <td>76</td>\n",
       "      <td>191</td>\n",
       "    </tr>\n",
       "    <tr>\n",
       "      <th>22</th>\n",
       "      <td>10022</td>\n",
       "      <td>0</td>\n",
       "      <td>11</td>\n",
       "      <td>20</td>\n",
       "    </tr>\n",
       "    <tr>\n",
       "      <th>23</th>\n",
       "      <td>10023</td>\n",
       "      <td>0</td>\n",
       "      <td>1</td>\n",
       "      <td>7</td>\n",
       "    </tr>\n",
       "    <tr>\n",
       "      <th>24</th>\n",
       "      <td>10024</td>\n",
       "      <td>0</td>\n",
       "      <td>6</td>\n",
       "      <td>7</td>\n",
       "    </tr>\n",
       "    <tr>\n",
       "      <th>25</th>\n",
       "      <td>10025</td>\n",
       "      <td>0</td>\n",
       "      <td>61</td>\n",
       "      <td>67</td>\n",
       "    </tr>\n",
       "    <tr>\n",
       "      <th>26</th>\n",
       "      <td>10026</td>\n",
       "      <td>0</td>\n",
       "      <td>7</td>\n",
       "      <td>16</td>\n",
       "    </tr>\n",
       "    <tr>\n",
       "      <th>27</th>\n",
       "      <td>10027</td>\n",
       "      <td>0</td>\n",
       "      <td>2</td>\n",
       "      <td>0</td>\n",
       "    </tr>\n",
       "    <tr>\n",
       "      <th>28</th>\n",
       "      <td>10028</td>\n",
       "      <td>0</td>\n",
       "      <td>8</td>\n",
       "      <td>25</td>\n",
       "    </tr>\n",
       "    <tr>\n",
       "      <th>29</th>\n",
       "      <td>10029</td>\n",
       "      <td>0</td>\n",
       "      <td>9</td>\n",
       "      <td>10</td>\n",
       "    </tr>\n",
       "    <tr>\n",
       "      <th>...</th>\n",
       "      <td>...</td>\n",
       "      <td>...</td>\n",
       "      <td>...</td>\n",
       "      <td>...</td>\n",
       "    </tr>\n",
       "    <tr>\n",
       "      <th>13392</th>\n",
       "      <td>23392</td>\n",
       "      <td>0</td>\n",
       "      <td>35</td>\n",
       "      <td>56</td>\n",
       "    </tr>\n",
       "    <tr>\n",
       "      <th>13393</th>\n",
       "      <td>23393</td>\n",
       "      <td>0</td>\n",
       "      <td>12</td>\n",
       "      <td>8</td>\n",
       "    </tr>\n",
       "    <tr>\n",
       "      <th>13394</th>\n",
       "      <td>23394</td>\n",
       "      <td>0</td>\n",
       "      <td>11</td>\n",
       "      <td>23</td>\n",
       "    </tr>\n",
       "    <tr>\n",
       "      <th>13395</th>\n",
       "      <td>23395</td>\n",
       "      <td>0</td>\n",
       "      <td>25</td>\n",
       "      <td>102</td>\n",
       "    </tr>\n",
       "    <tr>\n",
       "      <th>13396</th>\n",
       "      <td>23396</td>\n",
       "      <td>1</td>\n",
       "      <td>14</td>\n",
       "      <td>38</td>\n",
       "    </tr>\n",
       "    <tr>\n",
       "      <th>13397</th>\n",
       "      <td>23397</td>\n",
       "      <td>0</td>\n",
       "      <td>2</td>\n",
       "      <td>0</td>\n",
       "    </tr>\n",
       "    <tr>\n",
       "      <th>13398</th>\n",
       "      <td>23398</td>\n",
       "      <td>0</td>\n",
       "      <td>2</td>\n",
       "      <td>5</td>\n",
       "    </tr>\n",
       "    <tr>\n",
       "      <th>13399</th>\n",
       "      <td>23399</td>\n",
       "      <td>0</td>\n",
       "      <td>4</td>\n",
       "      <td>29</td>\n",
       "    </tr>\n",
       "    <tr>\n",
       "      <th>13400</th>\n",
       "      <td>23400</td>\n",
       "      <td>0</td>\n",
       "      <td>1</td>\n",
       "      <td>0</td>\n",
       "    </tr>\n",
       "    <tr>\n",
       "      <th>13401</th>\n",
       "      <td>23401</td>\n",
       "      <td>1</td>\n",
       "      <td>12</td>\n",
       "      <td>31</td>\n",
       "    </tr>\n",
       "    <tr>\n",
       "      <th>13402</th>\n",
       "      <td>23402</td>\n",
       "      <td>0</td>\n",
       "      <td>12</td>\n",
       "      <td>65</td>\n",
       "    </tr>\n",
       "    <tr>\n",
       "      <th>13403</th>\n",
       "      <td>23403</td>\n",
       "      <td>0</td>\n",
       "      <td>12</td>\n",
       "      <td>15</td>\n",
       "    </tr>\n",
       "    <tr>\n",
       "      <th>13404</th>\n",
       "      <td>23404</td>\n",
       "      <td>0</td>\n",
       "      <td>2</td>\n",
       "      <td>10</td>\n",
       "    </tr>\n",
       "    <tr>\n",
       "      <th>13405</th>\n",
       "      <td>23405</td>\n",
       "      <td>1</td>\n",
       "      <td>10</td>\n",
       "      <td>16</td>\n",
       "    </tr>\n",
       "    <tr>\n",
       "      <th>13406</th>\n",
       "      <td>23406</td>\n",
       "      <td>0</td>\n",
       "      <td>14</td>\n",
       "      <td>32</td>\n",
       "    </tr>\n",
       "    <tr>\n",
       "      <th>13407</th>\n",
       "      <td>23407</td>\n",
       "      <td>0</td>\n",
       "      <td>9</td>\n",
       "      <td>2</td>\n",
       "    </tr>\n",
       "    <tr>\n",
       "      <th>13408</th>\n",
       "      <td>23408</td>\n",
       "      <td>0</td>\n",
       "      <td>4</td>\n",
       "      <td>26</td>\n",
       "    </tr>\n",
       "    <tr>\n",
       "      <th>13409</th>\n",
       "      <td>23409</td>\n",
       "      <td>0</td>\n",
       "      <td>39</td>\n",
       "      <td>184</td>\n",
       "    </tr>\n",
       "    <tr>\n",
       "      <th>13410</th>\n",
       "      <td>23410</td>\n",
       "      <td>0</td>\n",
       "      <td>5</td>\n",
       "      <td>20</td>\n",
       "    </tr>\n",
       "    <tr>\n",
       "      <th>13411</th>\n",
       "      <td>23411</td>\n",
       "      <td>0</td>\n",
       "      <td>3</td>\n",
       "      <td>0</td>\n",
       "    </tr>\n",
       "    <tr>\n",
       "      <th>13412</th>\n",
       "      <td>23412</td>\n",
       "      <td>0</td>\n",
       "      <td>15</td>\n",
       "      <td>14</td>\n",
       "    </tr>\n",
       "    <tr>\n",
       "      <th>13413</th>\n",
       "      <td>23413</td>\n",
       "      <td>0</td>\n",
       "      <td>21</td>\n",
       "      <td>63</td>\n",
       "    </tr>\n",
       "    <tr>\n",
       "      <th>13414</th>\n",
       "      <td>23414</td>\n",
       "      <td>0</td>\n",
       "      <td>12</td>\n",
       "      <td>48</td>\n",
       "    </tr>\n",
       "    <tr>\n",
       "      <th>13415</th>\n",
       "      <td>23415</td>\n",
       "      <td>0</td>\n",
       "      <td>6</td>\n",
       "      <td>18</td>\n",
       "    </tr>\n",
       "    <tr>\n",
       "      <th>13416</th>\n",
       "      <td>23416</td>\n",
       "      <td>0</td>\n",
       "      <td>13</td>\n",
       "      <td>18</td>\n",
       "    </tr>\n",
       "    <tr>\n",
       "      <th>13417</th>\n",
       "      <td>23417</td>\n",
       "      <td>0</td>\n",
       "      <td>36</td>\n",
       "      <td>99</td>\n",
       "    </tr>\n",
       "    <tr>\n",
       "      <th>13418</th>\n",
       "      <td>23418</td>\n",
       "      <td>0</td>\n",
       "      <td>13</td>\n",
       "      <td>4</td>\n",
       "    </tr>\n",
       "    <tr>\n",
       "      <th>13419</th>\n",
       "      <td>23419</td>\n",
       "      <td>0</td>\n",
       "      <td>9</td>\n",
       "      <td>19</td>\n",
       "    </tr>\n",
       "    <tr>\n",
       "      <th>13420</th>\n",
       "      <td>23420</td>\n",
       "      <td>0</td>\n",
       "      <td>11</td>\n",
       "      <td>67</td>\n",
       "    </tr>\n",
       "    <tr>\n",
       "      <th>13421</th>\n",
       "      <td>23421</td>\n",
       "      <td>1</td>\n",
       "      <td>1</td>\n",
       "      <td>13</td>\n",
       "    </tr>\n",
       "  </tbody>\n",
       "</table>\n",
       "<p>13422 rows × 4 columns</p>\n",
       "</div>"
      ],
      "text/plain": [
       "         UID  Tag  trans_cnt  op_cnt\n",
       "0      10000    1          2       9\n",
       "1      10001    0         18      67\n",
       "2      10002    0          3      11\n",
       "3      10003    0          4      15\n",
       "4      10004    0          7      34\n",
       "5      10005    0          1       0\n",
       "6      10006    0          7       7\n",
       "7      10007    0          4      13\n",
       "8      10008    0         21      30\n",
       "9      10009    0          7      12\n",
       "10     10010    0          4       8\n",
       "11     10011    0          2       8\n",
       "12     10012    0          9      64\n",
       "13     10013    0          2       0\n",
       "14     10014    0         12      30\n",
       "15     10015    0          2       0\n",
       "16     10016    0         15      27\n",
       "17     10017    0         16      39\n",
       "18     10018    0          2      23\n",
       "19     10019    1          5      10\n",
       "20     10020    0         12      18\n",
       "21     10021    1         76     191\n",
       "22     10022    0         11      20\n",
       "23     10023    0          1       7\n",
       "24     10024    0          6       7\n",
       "25     10025    0         61      67\n",
       "26     10026    0          7      16\n",
       "27     10027    0          2       0\n",
       "28     10028    0          8      25\n",
       "29     10029    0          9      10\n",
       "...      ...  ...        ...     ...\n",
       "13392  23392    0         35      56\n",
       "13393  23393    0         12       8\n",
       "13394  23394    0         11      23\n",
       "13395  23395    0         25     102\n",
       "13396  23396    1         14      38\n",
       "13397  23397    0          2       0\n",
       "13398  23398    0          2       5\n",
       "13399  23399    0          4      29\n",
       "13400  23400    0          1       0\n",
       "13401  23401    1         12      31\n",
       "13402  23402    0         12      65\n",
       "13403  23403    0         12      15\n",
       "13404  23404    0          2      10\n",
       "13405  23405    1         10      16\n",
       "13406  23406    0         14      32\n",
       "13407  23407    0          9       2\n",
       "13408  23408    0          4      26\n",
       "13409  23409    0         39     184\n",
       "13410  23410    0          5      20\n",
       "13411  23411    0          3       0\n",
       "13412  23412    0         15      14\n",
       "13413  23413    0         21      63\n",
       "13414  23414    0         12      48\n",
       "13415  23415    0          6      18\n",
       "13416  23416    0         13      18\n",
       "13417  23417    0         36      99\n",
       "13418  23418    0         13       4\n",
       "13419  23419    0          9      19\n",
       "13420  23420    0         11      67\n",
       "13421  23421    1          1      13\n",
       "\n",
       "[13422 rows x 4 columns]"
      ]
     },
     "execution_count": 126,
     "metadata": {},
     "output_type": "execute_result"
    }
   ],
   "source": [
    "df_train_tag"
   ]
  },
  {
   "cell_type": "code",
   "execution_count": null,
   "metadata": {},
   "outputs": [],
   "source": []
  }
 ],
 "metadata": {
  "kernelspec": {
   "display_name": "Python 3",
   "language": "python",
   "name": "python3"
  },
  "language_info": {
   "codemirror_mode": {
    "name": "ipython",
    "version": 3
   },
   "file_extension": ".py",
   "mimetype": "text/x-python",
   "name": "python",
   "nbconvert_exporter": "python",
   "pygments_lexer": "ipython3",
   "version": "3.6.4"
  }
 },
 "nbformat": 4,
 "nbformat_minor": 1
}
